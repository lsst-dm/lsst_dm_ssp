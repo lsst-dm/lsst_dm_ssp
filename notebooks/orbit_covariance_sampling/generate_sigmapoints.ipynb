{
 "cells": [
  {
   "cell_type": "markdown",
   "metadata": {},
   "source": [
    "# Generate Sigma Points for Asteroids\n",
    "This notebook demonstrates how to query JPL CNEOS API for orbital elements and covariances and generate sigma points from that covariance matrix. Those sigma points are then converted to Cartesian states that can be used for uncertainty propagation.\n",
    "\n",
    "S. Eggl 20200123"
   ]
  },
  {
   "cell_type": "code",
   "execution_count": 1,
   "metadata": {},
   "outputs": [],
   "source": [
    "import numpy as np\n",
    "import jpl_query\n",
    "from scipy.linalg import cholesky"
   ]
  },
  {
   "cell_type": "code",
   "execution_count": 2,
   "metadata": {},
   "outputs": [],
   "source": [
    "def covariance2sigmapoints(mean,cov,h=np.sqrt(3)):\n",
    "    \"\"\"Generate sigma points from covariance matrix based on +-Sqrt(nM)\n",
    "    \n",
    "    Parameters: \n",
    "    -----------\n",
    "    mean ... vector of mean values (dimension n)\n",
    "    cov ... covariance matrix\n",
    "    \n",
    "    Returns:\n",
    "    --------\n",
    "    sigmap ... list of sigma points (2n+1, dimension n)\n",
    "    \"\"\"\n",
    "\n",
    "    # Lower triangular matrix such that P = Sxx * transpose(Sxx)\n",
    "    x=np.array(mean)\n",
    "    sqrt_xx = cholesky(np.array(cov), lower=True)\n",
    "    sig_pts = []\n",
    "    sig_pts.append(x)\n",
    "    #print(sqrt_xx)\n",
    "    for col in sqrt_xx.T:  # loop over columns\n",
    "        sig_pts.append(x + (h * col))\n",
    "        sig_pts.append(x - (h * col))\n",
    "    \n",
    "    sigmap=np.array(sig_pts)\n",
    "    #do a quick unit test here\n",
    "    spmean=np.mean(sigmap,axis=0)\n",
    "    spcov=np.cov(sigmap.T/h,bias=True)\n",
    "    #print(spcov)\n",
    "    dmean=spmean-mean\n",
    "    if(np.dot(dmean,dmean)>1e-13):\n",
    "        raise ValueError('Error: sigma point mean is not close to original mean')\n",
    "    \n",
    "    if(np.sum(np.subtract(spcov,cov))>1e-13):\n",
    "        raise ValueError('Error: sigma point covariance is not close to original covariance')\n",
    "    return sigmap"
   ]
  },
  {
   "cell_type": "code",
   "execution_count": 3,
   "metadata": {},
   "outputs": [],
   "source": [
    "def sigmapoints2covariance(p,h=np.sqrt(3)):\n",
    "    \"\"\"Takes a numpy array of vectors and calulates the covariance matrix 'manually'\n",
    "    \n",
    "    Parameters:\n",
    "    -----------\n",
    "    p ... array of input vectors\n",
    "    \n",
    "    Returns:\n",
    "    --------\n",
    "    pmean ... mean\n",
    "    cov ... covariance matrix\n",
    "    \"\"\"\n",
    "    pmean=np.mean(p,axis=0)\n",
    "    n=p.shape[0]\n",
    "    #recreate the covariance matrix from sigma points\n",
    "    #the factor of n/2 comes from the number of sigma points (we don't want the covariance matrix divided by that number)\n",
    "    # and the +- distances from the mean \n",
    "    cov=np.cov(p.T/h,bias=True)*n/2\n",
    "    #cov=np.cov(p.T/h,bias=False)\n",
    "    return pmean, cov"
   ]
  },
  {
   "cell_type": "code",
   "execution_count": 4,
   "metadata": {},
   "outputs": [],
   "source": [
    "#TARGET ASTEROID IDENTIFIER FOR JPL QUERY\n",
    "tname='Duende'"
   ]
  },
  {
   "cell_type": "code",
   "execution_count": 5,
   "metadata": {},
   "outputs": [],
   "source": [
    "#QUERY JPL FOR ORBITAL ELEMENTS AND COVARIANCE MATRIX\n",
    "state=jpl_query.query_cometary_ele_and_cov(tname)"
   ]
  },
  {
   "cell_type": "code",
   "execution_count": 6,
   "metadata": {},
   "outputs": [],
   "source": [
    "#EPOCH FOR ORBITAL ELEMENTS AND COVARIANCE MATRIX (JD)\n",
    "epoch=state[0]"
   ]
  },
  {
   "cell_type": "code",
   "execution_count": 7,
   "metadata": {},
   "outputs": [],
   "source": [
    "#COMETARY ORBITAL ELEMENTS [e,q,tp(JD),node(deg),peri(deg),inc(deg)]\n",
    "com=np.array(state[1])"
   ]
  },
  {
   "cell_type": "code",
   "execution_count": 8,
   "metadata": {},
   "outputs": [
    {
     "data": {
      "text/plain": [
       "array([1.08129352e-01, 8.93492625e-01, 2.45626155e+06, 1.47262479e+02,\n",
       "       2.71086261e+02, 1.03372996e+01])"
      ]
     },
     "execution_count": 8,
     "metadata": {},
     "output_type": "execute_result"
    }
   ],
   "source": [
    "com"
   ]
  },
  {
   "cell_type": "code",
   "execution_count": 9,
   "metadata": {},
   "outputs": [],
   "source": [
    "#COVARIANCE MATRIX\n",
    "cov=np.array(state[2])"
   ]
  },
  {
   "cell_type": "code",
   "execution_count": 10,
   "metadata": {},
   "outputs": [
    {
     "data": {
      "text/plain": [
       "array([[ 1.22427066e-15, -1.21595471e-15, -7.70335932e-15,\n",
       "         7.27276618e-16, -1.49591848e-13, -3.61762539e-14],\n",
       "       [-1.21595471e-15,  1.21014550e-15,  8.78586162e-15,\n",
       "        -7.17810854e-16,  1.50033328e-13,  3.59520167e-14],\n",
       "       [-7.70335932e-15,  8.78586162e-15,  6.00186647e-13,\n",
       "         5.81889730e-15,  1.63466838e-12,  2.85535705e-13],\n",
       "       [ 7.27276618e-16, -7.17810854e-16,  5.81889730e-15,\n",
       "         1.11320495e-14, -8.87319114e-14,  3.01011899e-14],\n",
       "       [-1.49591848e-13,  1.50033328e-13,  1.63466838e-12,\n",
       "        -8.87319114e-14,  1.91672708e-11,  4.42994470e-12],\n",
       "       [-3.61762539e-14,  3.59520167e-14,  2.85535705e-13,\n",
       "         3.01011899e-14,  4.42994470e-12,  1.33606512e-12]])"
      ]
     },
     "execution_count": 10,
     "metadata": {},
     "output_type": "execute_result"
    }
   ],
   "source": [
    "cov"
   ]
  },
  {
   "cell_type": "markdown",
   "metadata": {},
   "source": [
    "## Create Sigma Points from Covariance Matrix"
   ]
  },
  {
   "cell_type": "code",
   "execution_count": 11,
   "metadata": {},
   "outputs": [],
   "source": [
    "sigma_points=covariance2sigmapoints(com,cov)"
   ]
  },
  {
   "cell_type": "code",
   "execution_count": 12,
   "metadata": {},
   "outputs": [
    {
     "data": {
      "text/plain": [
       "array([[1.08129352e-01, 8.93492625e-01, 2.45626155e+06, 1.47262479e+02,\n",
       "        2.71086261e+02, 1.03372996e+01],\n",
       "       [1.08129413e-01, 8.93492564e-01, 2.45626155e+06, 1.47262479e+02,\n",
       "        2.71086254e+02, 1.03372978e+01],\n",
       "       [1.08129292e-01, 8.93492685e-01, 2.45626155e+06, 1.47262479e+02,\n",
       "        2.71086269e+02, 1.03373014e+01],\n",
       "       [1.08129352e-01, 8.93492627e-01, 2.45626155e+06, 1.47262479e+02,\n",
       "        2.71086263e+02, 1.03372996e+01],\n",
       "       [1.08129352e-01, 8.93492622e-01, 2.45626155e+06, 1.47262479e+02,\n",
       "        2.71086260e+02, 1.03372996e+01],\n",
       "       [1.08129352e-01, 8.93492625e-01, 2.45626155e+06, 1.47262479e+02,\n",
       "        2.71086262e+02, 1.03373001e+01],\n",
       "       [1.08129352e-01, 8.93492625e-01, 2.45626155e+06, 1.47262479e+02,\n",
       "        2.71086261e+02, 1.03372991e+01],\n",
       "       [1.08129352e-01, 8.93492625e-01, 2.45626155e+06, 1.47262479e+02,\n",
       "        2.71086261e+02, 1.03373003e+01],\n",
       "       [1.08129352e-01, 8.93492625e-01, 2.45626155e+06, 1.47262479e+02,\n",
       "        2.71086262e+02, 1.03372989e+01],\n",
       "       [1.08129352e-01, 8.93492625e-01, 2.45626155e+06, 1.47262479e+02,\n",
       "        2.71086262e+02, 1.03372997e+01],\n",
       "       [1.08129352e-01, 8.93492625e-01, 2.45626155e+06, 1.47262479e+02,\n",
       "        2.71086261e+02, 1.03372995e+01],\n",
       "       [1.08129352e-01, 8.93492625e-01, 2.45626155e+06, 1.47262479e+02,\n",
       "        2.71086261e+02, 1.03372998e+01],\n",
       "       [1.08129352e-01, 8.93492625e-01, 2.45626155e+06, 1.47262479e+02,\n",
       "        2.71086261e+02, 1.03372994e+01]])"
      ]
     },
     "execution_count": 12,
     "metadata": {},
     "output_type": "execute_result"
    }
   ],
   "source": [
    "sigma_points"
   ]
  },
  {
   "cell_type": "markdown",
   "metadata": {},
   "source": [
    "### Test if Sigma Points reproduce original Covariance Matrix"
   ]
  },
  {
   "cell_type": "code",
   "execution_count": 13,
   "metadata": {},
   "outputs": [],
   "source": [
    "[pmean,cov_new]=sigmapoints2covariance(sigma_points)"
   ]
  },
  {
   "cell_type": "code",
   "execution_count": 14,
   "metadata": {},
   "outputs": [
    {
     "data": {
      "text/plain": [
       "array([[1.        , 1.        , 0.99956297, 0.99999964, 1.        ,\n",
       "        1.        ],\n",
       "       [1.        , 1.        , 0.99960908, 0.99999965, 1.        ,\n",
       "        1.        ],\n",
       "       [0.99956297, 0.99960908, 0.99981176, 1.00072124, 0.99971849,\n",
       "        0.99969658],\n",
       "       [0.99999964, 0.99999965, 1.00072124, 1.00000013, 0.99999969,\n",
       "        1.00000039],\n",
       "       [1.        , 1.        , 0.99971849, 0.99999969, 1.        ,\n",
       "        1.        ],\n",
       "       [1.        , 1.        , 0.99969658, 1.00000039, 1.        ,\n",
       "        1.        ]])"
      ]
     },
     "execution_count": 14,
     "metadata": {},
     "output_type": "execute_result"
    }
   ],
   "source": [
    "#Calculate the difference between original and Sigma Point Covariance. Small is good.\n",
    "cov/cov_new"
   ]
  },
  {
   "cell_type": "markdown",
   "metadata": {},
   "source": [
    "## Convert Sigma Points from Cometary to Cartesian"
   ]
  },
  {
   "cell_type": "code",
   "execution_count": 15,
   "metadata": {},
   "outputs": [
    {
     "data": {
      "text/plain": [
       "2456165.5"
      ]
     },
     "execution_count": 15,
     "metadata": {},
     "output_type": "execute_result"
    }
   ],
   "source": [
    "#Epoch\n",
    "state[0]"
   ]
  },
  {
   "cell_type": "code",
   "execution_count": 16,
   "metadata": {},
   "outputs": [],
   "source": [
    "sp_cart=[]\n",
    "for s in sigma_points:\n",
    "    sp_cart.append(jpl_query.cometary2cartesian(state[0],s))"
   ]
  },
  {
   "cell_type": "code",
   "execution_count": 17,
   "metadata": {},
   "outputs": [
    {
     "data": {
      "text/plain": [
       "[array([ 0.68329937, -0.75783578,  0.0488725 ,  0.01115044,  0.01227682,\n",
       "        -0.00298354]),\n",
       " array([ 0.68329921, -0.75783595,  0.04887254,  0.01115044,  0.01227682,\n",
       "        -0.00298353]),\n",
       " array([ 0.68329954, -0.75783561,  0.04887247,  0.01115044,  0.01227683,\n",
       "        -0.00298354]),\n",
       " array([ 0.68329939, -0.75783577,  0.0488725 ,  0.01115044,  0.01227683,\n",
       "        -0.00298354]),\n",
       " array([ 0.68329936, -0.75783578,  0.04887251,  0.01115044,  0.01227682,\n",
       "        -0.00298354]),\n",
       " array([ 0.68329938, -0.75783578,  0.04887251,  0.01115044,  0.01227682,\n",
       "        -0.00298354]),\n",
       " array([ 0.68329937, -0.75783578,  0.0488725 ,  0.01115044,  0.01227682,\n",
       "        -0.00298353]),\n",
       " array([ 0.68329937, -0.75783578,  0.04887251,  0.01115044,  0.01227682,\n",
       "        -0.00298354]),\n",
       " array([ 0.68329937, -0.75783578,  0.0488725 ,  0.01115044,  0.01227682,\n",
       "        -0.00298353]),\n",
       " array([ 0.68329937, -0.75783578,  0.0488725 ,  0.01115044,  0.01227682,\n",
       "        -0.00298354]),\n",
       " array([ 0.68329937, -0.75783578,  0.0488725 ,  0.01115044,  0.01227682,\n",
       "        -0.00298354]),\n",
       " array([ 0.68329937, -0.75783578,  0.0488725 ,  0.01115044,  0.01227682,\n",
       "        -0.00298354]),\n",
       " array([ 0.68329937, -0.75783578,  0.0488725 ,  0.01115044,  0.01227682,\n",
       "        -0.00298354])]"
      ]
     },
     "execution_count": 17,
     "metadata": {},
     "output_type": "execute_result"
    }
   ],
   "source": [
    "#List of Cartesian states of Sigma points\n",
    "sp_cart"
   ]
  }
 ],
 "metadata": {
  "kernelspec": {
   "display_name": "Python 3",
   "language": "python",
   "name": "python3"
  },
  "language_info": {
   "codemirror_mode": {
    "name": "ipython",
    "version": 3
   },
   "file_extension": ".py",
   "mimetype": "text/x-python",
   "name": "python",
   "nbconvert_exporter": "python",
   "pygments_lexer": "ipython3",
   "version": "3.7.3"
  }
 },
 "nbformat": 4,
 "nbformat_minor": 2
}
