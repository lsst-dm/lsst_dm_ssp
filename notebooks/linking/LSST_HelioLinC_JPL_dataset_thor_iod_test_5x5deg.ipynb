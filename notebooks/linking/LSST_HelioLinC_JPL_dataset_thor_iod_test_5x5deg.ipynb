{
 "cells": [
  {
   "cell_type": "markdown",
   "metadata": {},
   "source": [
    "# LSST Solar System Processing\n",
    "\n",
    "## Linking of Observations from JPL Veres & Chesley dataset via HelioLinC\n",
    "\n",
    "### Algorithm: \n",
    "\n",
    "Based on HelioLinC (Holman et al. 2018) we transform topocentric observations to heliocentric states assuming a distance and radial velocity.\n",
    "The resulting 3D positions are collected into tracklets. Tracklets contain at least two observations and can, thus, be used to create velocity vectors.\n",
    "A tracklet + velocity vector is called an \"arrow\". \n",
    "Arrows are propagated to a common epoch using spiceypy's 2body propagator, and then clustered using dbscan.\n",
    "\n",
    "### Implementation:\n",
    "S. Eggl 20191215\n",
    "    "
   ]
  },
  {
   "cell_type": "code",
   "execution_count": 1,
   "metadata": {},
   "outputs": [
    {
     "name": "stderr",
     "output_type": "stream",
     "text": [
      "/data/epyc/projects/lsst_ssp/thor/thor/orbits/kepler.py:57: NumbaPerformanceWarning: np.dot() is faster on contiguous arrays, called on (array(float64, 1d, A), array(float64, 1d, A))\n",
      "  e_vec = ((v_mag**2 - mu / r_mag) * r - (np.dot(r, v)) * v) / mu\n",
      "/data/epyc/projects/lsst_ssp/thor/thor/orbits/kepler.py:79: NumbaPerformanceWarning: np.dot() is faster on contiguous arrays, called on (array(float64, 1d, C), array(float64, 1d, A))\n",
      "  trueAnom_deg = np.degrees(np.arccos(np.dot(e_vec, r) / (e * r_mag)))\n",
      "/data/epyc/projects/lsst_ssp/thor/thor/orbits/kepler.py:80: NumbaPerformanceWarning: np.dot() is faster on contiguous arrays, called on (array(float64, 1d, A), array(float64, 1d, A))\n",
      "  if np.dot(r, v) < 0:\n",
      "/data/epyc/projects/lsst_ssp/thor/thor/orbits/propagate/universal.py:46: NumbaPerformanceWarning: np.dot() is faster on contiguous arrays, called on (array(float64, 1d, A), array(float64, 1d, A))\n",
      "  rv_mag = np.dot(r, v) / r_mag\n"
     ]
    }
   ],
   "source": [
    "# Solar System Processing functions\n",
    "import lsstssp as ls"
   ]
  },
  {
   "cell_type": "code",
   "execution_count": 2,
   "metadata": {},
   "outputs": [],
   "source": [
    "import constants as cnst\n",
    "import vector as vec\n",
    "import transforms as tr\n",
    "import propagate as prop\n",
    "import ephemeris as ephem\n",
    "import state as st"
   ]
  },
  {
   "cell_type": "code",
   "execution_count": 3,
   "metadata": {},
   "outputs": [],
   "source": [
    "from thor.orbits import iod"
   ]
  },
  {
   "cell_type": "code",
   "execution_count": 4,
   "metadata": {},
   "outputs": [],
   "source": [
    "# Gauss method for initial orbit determination\n",
    "#import gauss2 as iod"
   ]
  },
  {
   "cell_type": "code",
   "execution_count": 5,
   "metadata": {},
   "outputs": [
    {
     "name": "stderr",
     "output_type": "stream",
     "text": [
      "/epyc/projects/pytrax_play/envs/pytrax_s/lib/python3.7/site-packages/statsmodels/tools/_testing.py:19: FutureWarning:\n",
      "\n",
      "pandas.util.testing is deprecated. Use the functions in the public API at pandas.testing instead.\n",
      "\n"
     ]
    }
   ],
   "source": [
    "#Accelerators\n",
    "import numpy as np\n",
    "#import numba\n",
    "from joblib import Parallel, delayed\n",
    "\n",
    "#Database\n",
    "import pandas as pd\n",
    "import sqlite3 as sql\n",
    "\n",
    "# # External API's\n",
    "# from astroquery.jplhorizons import Horizons\n",
    "from astroquery.jplsbdb import SBDB\n",
    "\n",
    "#Orbital Dynamics\n",
    "import spiceypy as sp\n",
    "\n",
    "#Interpolation\n",
    "import scipy.interpolate as spi\n",
    "\n",
    "# Clustering\n",
    "import scipy.spatial as scsp\n",
    "import sklearn.cluster as cluster\n",
    "\n",
    "#Plotting\n",
    "import matplotlib.pyplot as plt\n",
    "from matplotlib.pyplot import cm\n",
    "\n",
    "import matplotlib\n",
    "font = {'family' : 'DejaVu Sans',\n",
    "        'weight' : 'normal',\n",
    "        'size'   : 10}\n",
    "\n",
    "matplotlib.rc('font', **font)\n",
    "\n",
    "from mpl_toolkits.mplot3d import Axes3D\n",
    "from mpl_toolkits import mplot3d\n",
    "\n",
    "import plotly.graph_objects as go\n",
    "import seaborn as sns\n",
    "sns.set_context('poster')\n",
    "sns.set_color_codes()\n",
    "plot_kwds = {'alpha' : 0.25, 's' : 40, 'linewidths':0}\n",
    "\n",
    "#Timing\n",
    "import time\n",
    "#%matplotlib inline\n",
    "\n",
    "from datetime import datetime\n",
    "from tqdm import tqdm\n"
   ]
  },
  {
   "cell_type": "code",
   "execution_count": 6,
   "metadata": {},
   "outputs": [],
   "source": [
    "jpl_data_path=\"/data/epyc/data/solarsystem/jpl/fullDensity_3months/jpl_fullDensity.db\"\n",
    "\n",
    "def grab_JPL_data(database,nrows, query=\"\"\"SELECT * FROM detections LIMIT \"\"\"):\n",
    "    \"\"\"Import JPL LSST Veres & Chesley dataset from local database\n",
    "    \n",
    "    Parameters:\n",
    "    -----------\n",
    "    database ... path to database\n",
    "    nrows ... number of rows \n",
    "    \n",
    "    Returns:\n",
    "    --------\n",
    "    observations ... pandas dataframe containing observations from JPL database\n",
    "    \"\"\"\n",
    "    con = sql.connect(database)\n",
    "    observations = pd.read_sql(query+str(nrows), con)\n",
    "    \n",
    "    return observations\n",
    "\n",
    "\n",
    "def grab_n_nights_of_JPL_data(database,tstart,tend):\n",
    "    \"\"\"Import JPL LSST Veres & Chesley dataset from local database\n",
    "    \n",
    "    Parameters:\n",
    "    -----------\n",
    "    database ... path to database\n",
    "    tstart ... start night: number of nights since start of LSST survey (kraken2026) \n",
    "    tend ... last night: number of nights since start \n",
    "    \n",
    "    Returns:\n",
    "    --------\n",
    "    observations ... pandas dataframe containing observations from JPL database\n",
    "    \"\"\"\n",
    "    t0=52390\n",
    "    \n",
    "    if (tstart>tend):\n",
    "        print('Start night must be before end night! ')\n",
    "    \n",
    "    else:\n",
    "        qnights=\"nn <= \" + str(t0+tend) + \" AND nn >= \" + str(t0+tstart)\n",
    "        print(qnights)\n",
    "        con = sql.connect(database)\n",
    "        observations = pd.read_sql(\"\"\"SELECT * FROM detections WHERE \"\"\"+qnights, con)\n",
    "    \n",
    "    return observations\n",
    "\n",
    "\n",
    "def grab_n_nights_of_JPL_data_in_field(database, tstart, tend, ramin, ramax, decmin, decmax):\n",
    "    \"\"\"Import JPL LSST Veres & Chesley dataset from local database\n",
    "    \n",
    "    Parameters:\n",
    "    -----------\n",
    "    database ... path to database\n",
    "    tstart ... start night: number of nights since start of LSST survey (kraken2026) \n",
    "    tend ... last night: number of nights since start \n",
    "    \n",
    "    Returns:\n",
    "    --------\n",
    "    observations ... pandas dataframe containing observations from JPL database\n",
    "    \"\"\"\n",
    "    t0=52390\n",
    "    \n",
    "    if (tstart>tend):\n",
    "        print('Start night must be before end night! ')\n",
    "    \n",
    "    else:\n",
    "        qnights=\"nn <= \" + str(t0+tend) + \" AND nn >= \" + str(t0+tstart)\n",
    "        print(qnights)\n",
    "        box=(\" AND ra_deg >= \" + str(ramin) + \" AND ra_deg <= \" +str(ramax) + \n",
    "             \" AND dec_deg >= \" + str(decmin) + \" AND dec_deg <= \" + str(decmax))\n",
    "        \n",
    "        con = sql.connect(database)\n",
    "        observations = pd.read_sql(\"\"\"SELECT * FROM detections WHERE \"\"\"+qnights+box, con)\n",
    "    \n",
    "    return observations\n"
   ]
  },
  {
   "cell_type": "code",
   "execution_count": 9,
   "metadata": {},
   "outputs": [],
   "source": [
    "def plot_clusters(data, algorithm, args, kwds):\n",
    "    \"\"\"Cluster and plot data with skit learn algorithm \"\"\"\n",
    "    #start_time = time.time()\n",
    "    labels = algorithm(*args, **kwds).fit_predict(data)\n",
    "    #end_time = time.time()\n",
    "    palette = sns.color_palette('deep', np.unique(labels).max() + 1)\n",
    "    plt.figure(dpi=300)\n",
    "    colors = [palette[x] if x >= 0 else (0.0, 0.0, 0.0) for x in labels]\n",
    "    plt.scatter(data.T[0], data.T[1], c=colors, **plot_kwds)\n",
    "    frame = plt.gca()\n",
    "    frame.axes.get_xaxis().set_visible(False)\n",
    "    frame.axes.get_yaxis().set_visible(False)\n",
    "    plt.title('Clusters found by {}'.format(str(algorithm.__name__)), fontsize=24)\n",
    "    #plt.text(-0.5, 0.7, 'Clustering took {:.2f} s'.format(end_time - start_time), fontsize=14)"
   ]
  },
  {
   "cell_type": "code",
   "execution_count": 10,
   "metadata": {},
   "outputs": [],
   "source": [
    "def plot_clusters3d(data, dims, algorithm, args, kwds):\n",
    "    \"\"\"Cluster and plot multi dimensional data with skit learn algorithm\n",
    "        Plotting is done in 3D only,\"\"\"\n",
    "    #start_time = time.time()\n",
    "    labels = algorithm(*args, **kwds).fit_predict(data)\n",
    "    #end_time = time.time()\n",
    "    palette = sns.color_palette('deep', np.unique(labels).max() + 1)\n",
    "    colors = [palette[x] if x >= 0 else (0.0, 0.0, 0.0) for x in labels]\n",
    "    \n",
    "    fig=plt.figure(dpi=300,figsize=(20,14))\n",
    "    ax = fig.add_subplot(111, projection='3d')\n",
    "    ax.scatter3D(data.T[dims[0]], data.T[dims[1]], data.T[dims[2]], c=colors)\n",
    "    \n",
    "    ax.set_xlabel('X')\n",
    "    ax.set_ylabel('Y')\n",
    "    ax.set_zlabel('Z')\n",
    "    frame = plt.gca()\n",
    "    #frame.axes.get_xaxis().set_visible(False)\n",
    "    #frame.axes.get_yaxis().set_visible(False)\n",
    "    \n",
    "    plt.title('Clusters found by {}'.format(str(algorithm.__name__)), fontsize=22)\n",
    "    #plt.text(-0.5, 0.7, 'Clustering took {:.2f} s'.format(end_time - start_time), fontsize=10)"
   ]
  },
  {
   "cell_type": "code",
   "execution_count": 11,
   "metadata": {},
   "outputs": [],
   "source": [
    "def plot_orbits3d(df, xlims, ylims, zlims):\n",
    "    \"\"\"Orbit plot in 3D,\"\"\"\n",
    "    palette = sns.color_palette('deep', np.unique(df['objId']).max() + 1)\n",
    "    colors = [palette[x] if x >= 0 else (0.0, 0.0, 0.0) for x in df['objId']]\n",
    "    \n",
    "    fig=plt.figure(dpi=300,figsize=(20,14))\n",
    "    ax = fig.add_subplot(111, projection='3d')\n",
    "    ax.scatter3D(df['x'], df['y'], df['z'], c=colors)\n",
    "    \n",
    "    ax.set_xlabel('X')\n",
    "    ax.set_ylabel('Y')\n",
    "    ax.set_zlabel('Z')\n",
    "    frame = plt.gca()\n",
    "\n",
    "    if(xlims != []):\n",
    "        ax.set_xlim(xlims[0],xlims[1])\n",
    "    if(ylims != []):\n",
    "        ax.set_ylim(ylims[0],ylims[1])\n",
    "    if(zlims != []):\n",
    "        ax.set_zlim(zlims[0],zlims[1])    \n",
    "    \n",
    "    plt.title('Orbits', fontsize=22)\n",
    "    #plt.text(-0.5, 0.7, 'Clustering took {:.2f} s'.format(end_time - start_time), fontsize=10)"
   ]
  },
  {
   "cell_type": "code",
   "execution_count": 12,
   "metadata": {},
   "outputs": [],
   "source": [
    "def plot_positions3d(t,x,y,z,*args,**kwargs):\n",
    "    \"\"\"Plot x,y,z positions in 3D with color coding (time).\n",
    "    \n",
    "    Parameters:\n",
    "    -----------\n",
    "    t ... time array\n",
    "    x ... array containing x coordinates\n",
    "    y ... array containing t coordinates\n",
    "    z ... array containing z coordinates\n",
    "    \n",
    "    Kwargs:\n",
    "    -------\n",
    "    xlim, ylim, zlim ... [min,max] ranges for x,y and z axes\n",
    "    \"\"\"\n",
    "#t = dt[:]\n",
    "#x, y, z = xp[:,0], xp[:,1], xp[:,2]\n",
    "\n",
    "    options = {'xlim' : [], 'ylim' : [] }\n",
    "\n",
    "    options.update(kwargs)\n",
    "\n",
    "    data=[go.Scatter3d(x=x, y=y, z=z,\n",
    "        mode='markers',\n",
    "        marker=dict(\n",
    "            size=3,\n",
    "            color=t,                # set color to an array/list of desired values\n",
    "            colorscale='Viridis',   # choose a colorscale\n",
    "            opacity=0.8\n",
    "                    ))]\n",
    "\n",
    "    layout = go.Layout(\n",
    "        xaxis=dict(range=options['xlim']),\n",
    "        yaxis=dict(range=options['ylim'])\n",
    " #       zaxis=dict(range=options['zlim'])\n",
    "                  )\n",
    "\n",
    "    fig = go.Figure(data=data, layout=layout)\n",
    "\n",
    "# tight layout\n",
    "    fig.update_layout(margin=dict(l=0, r=0, b=0, t=0))\n",
    "    fig.show()"
   ]
  },
  {
   "cell_type": "code",
   "execution_count": 14,
   "metadata": {},
   "outputs": [],
   "source": [
    "def correct_pairs(df,pairs):\n",
    "    \"\"\"Which pairs are actually good, i.e. which tracklets are real?\n",
    "    \n",
    "    Parameters:\n",
    "    -----------\n",
    "    df      ... pandas dataframe with observations\n",
    "    pairs   ... list of pairs of observations [obsid1,obsid2] linked into arrows\n",
    "    \n",
    "    Returns:\n",
    "    --------\n",
    "    correct ... logical array (dimension of pairs[:,0])\n",
    "    \"\"\"\n",
    "    p=np.array(pairs)\n",
    "    #find out which pairs are actually good\n",
    "    pair_obj=np.array([df['objId'][p[:,0]].values,df['objId'][p[:,1]].values]).T\n",
    "    #print(pair_obj)\n",
    "    #correct=np.where(df['obj'][p[:,0]].values == df['obj'][p[:,1]].values)\n",
    "    correct=np.where(pair_obj[:,0] == pair_obj[:,1])\n",
    "    return correct[0]"
   ]
  },
  {
   "cell_type": "code",
   "execution_count": 15,
   "metadata": {},
   "outputs": [],
   "source": [
    "def observations_in_cluster(df,pairs,cluster, garbage=False):\n",
    "    \"\"\"List observations in each cluster.\n",
    "    \n",
    "    Parameters:\n",
    "    -----------\n",
    "    df      ... pandas dataframe with observations\n",
    "    pairs   ... list of pairs of observations [obsid1,obsid2] linked into arrows\n",
    "    cluster ... output of clustering algorithm (sklearn.cluster)\n",
    "    \n",
    "    Returns:\n",
    "    --------\n",
    "    obs_in_cluster ... list of observations in each cluster\n",
    "    \"\"\"\n",
    "    #cluster names (beware: -1 is the cluster of all the leftovers)\n",
    "    if(garbage):\n",
    "        unique_labels = np.unique(cluster.labels_)\n",
    "    else:\n",
    "        unique_labels = np.unique(cluster.labels_)[1:]\n",
    "    #number of clusters\n",
    "    n_clusters = len(unique_labels)\n",
    "    \n",
    "    #which objects do observations in pairs (tracklets) belong to\n",
    "    p = np.array(pairs)              \n",
    "    \n",
    "    obs_in_cluster=[]\n",
    "    obs_in_cluster_add=obs_in_cluster.append\n",
    "    \n",
    "    #cluster contains \n",
    "    for u in unique_labels:\n",
    "        #which indices in pair array appear in a given cluster?\n",
    "        idx = np.where(cluster.labels_ == u)[0]\n",
    "        \n",
    "        #which observations are in this cluster\n",
    "        obs_in_cluster_add(np.unique(p[idx].flatten()))\n",
    "    \n",
    "    return obs_in_cluster, unique_labels"
   ]
  },
  {
   "cell_type": "code",
   "execution_count": 16,
   "metadata": {},
   "outputs": [],
   "source": [
    "def objects_in_cluster(df,pairs,cluster):\n",
    "    \"\"\"List observations in each cluster.\n",
    "    \n",
    "    Parameters:\n",
    "    -----------\n",
    "    df      ... pandas dataframe with observations\n",
    "    pairs   ... list of pairs of observations [obsid1,obsid2] linked into arrows\n",
    "    cluster ... output of clustering algorithm (sklearn.cluster)\n",
    "    \n",
    "    Returns:\n",
    "    --------\n",
    "    obs_in_cluster ... list of objects in each cluster\n",
    "    \"\"\"\n",
    "    #cluster names (beware: -1 is the cluster of all the leftovers)\n",
    "    unique_labels = np.unique(cluster.labels_)\n",
    "    #number of clusters\n",
    "    n_clusters = len(unique_labels)\n",
    "    \n",
    "    #which objects do observations in pairs (tracklets) belong to\n",
    "    p = np.array(pairs)              \n",
    "    pair_obj = np.array([df['obj'][p[:,0]].values,df['obj'][p[:,1]].values]).T\n",
    "    \n",
    "    obj_in_cluster=[]\n",
    "    obj_in_cluster_add=obj_in_cluster.append\n",
    "    #cluster contains \n",
    "    for u in unique_labels:\n",
    "        #which indices in pair array appear in a given cluster?\n",
    "        idx = np.where(cluster.labels_ == u)[0]\n",
    "        #find unique object ids in cluster\n",
    "        uniq_obj=np.unique(pair_obj[idx])\n",
    "        obj_in_cluster_add(uniq_obj)\n",
    "        \n",
    "    return obj_in_cluster, unique_labels"
   ]
  },
  {
   "cell_type": "code",
   "execution_count": 17,
   "metadata": {},
   "outputs": [],
   "source": [
    "def observations_in_arrows(df,goodpairs,*args,**kwargs):\n",
    "    \"\"\"Find which observations go into an arrow.\n",
    "    \n",
    "    Parameters:\n",
    "    -----------\n",
    "    df          ... pandas dataframe with observations\n",
    "    goodpairs   ... filtered list of pairs of observations [obsid1,obsid2] linked into arrows\n",
    "    \n",
    "    Returns:\n",
    "    --------\n",
    "    df_obs_in_arrows ... pandas dataframe where the index is the arrow id \n",
    "                         and the first and second column are the first and second observation \n",
    "                         that go into the respective arrow.\n",
    "    \"\"\"\n",
    "    df_obs_in_arrows=pd.DataFrame(goodpairs,**kwargs)\n",
    "    return df_obs_in_arrows"
   ]
  },
  {
   "cell_type": "code",
   "execution_count": 18,
   "metadata": {},
   "outputs": [],
   "source": [
    "def df2difi(df,index_name,value_name):\n",
    "    \"\"\"Map pandas dataframe with lists of values to THOR difi format\"\"\"\n",
    "\n",
    "    difi=df[value_name].apply(pd.Series) \\\n",
    "    .merge(df, right_index = True, left_index = True) \\\n",
    "    .drop([value_name], axis = 1) \\\n",
    "    .melt(id_vars = [index_name], value_name = value_name) \\\n",
    "    .drop(\"variable\", axis = 1) \\\n",
    "    .dropna() \\\n",
    "    .sort_values(by=[index_name]) \\\n",
    "    .astype('int') \\\n",
    "    .reset_index(drop=True)\n",
    "    \n",
    "    return difi"
   ]
  },
  {
   "cell_type": "code",
   "execution_count": 19,
   "metadata": {},
   "outputs": [],
   "source": [
    "def obs2heliocentric_arrows(df, r, drdt, tref, lttc=False, verbose=True):\n",
    "    \"\"\"Create tracklets/arrows from dataframe containing nightly RADEC observations\n",
    "       and observer positions.\n",
    "\n",
    "    Parameters:\n",
    "    -----------\n",
    "    df       ... Pandas DataFrame containing nightly RA and DEC [deg], time [JD, MJD],\n",
    "                 (x,y,z)_observer positions [au, ICRF]\n",
    "    r        ... assumed radius of heliocentric sphere used for arrow creation[au]\n",
    "    drdt     ... assumed radial velocity\n",
    "    tref     ... reference time for arrow generation. Used to calculate how much the \n",
    "                 heliocentric distance changes between observations based on assumed dr/dt\n",
    "\n",
    "\n",
    "    Keyword arguments:\n",
    "    ------------------\n",
    "    lttc (optional)        ... light travel time correction\n",
    "    verbose (optional)     ... print verbose progress statements  \n",
    "\n",
    "    Returns:\n",
    "    --------\n",
    "    x         ... tracklet/arrow position (3D) [au]\n",
    "    y         ... tracklet/arrow velocity (3D) [au]\n",
    "    t         ... tracklet/arrow reference epoch [JD/MJD]\n",
    "    \"\"\"\n",
    "    \n",
    "    # speed of light in au/day\n",
    "    c_aupd = 173.145\n",
    "\n",
    "    # Transform RADEC observations into positions on the unit sphere (US)\n",
    "    xyz = tr.radec2icrfu(df['RA'], df['DEC'], deg=True)\n",
    "\n",
    "    # Those are the line of sight (LOS) vectors\n",
    "    los = np.array([xyz[0], xyz[1], xyz[2]]).T\n",
    "\n",
    "    # Use the position of the observer and the LOS to project the position of\n",
    "    # the asteroid onto a heliocentric great circle with radius r\n",
    "    observer = df[['x_obs', 'y_obs', 'z_obs']].values\n",
    "\n",
    "    # Calculate how much the heliocentric distance changes\n",
    "    # during the obsevations based on assumed dr/dt\n",
    "    dt = tref-df['time'].values\n",
    "    dr = drdt*dt\n",
    "    r_plus_dr = r+dr\n",
    "\n",
    "    # Heliocentric postions of the observed asteroids\n",
    "    posu = ls.sphere_line_intercept(los, observer, r_plus_dr)\n",
    "\n",
    "    if(verbose):\n",
    "        print('Heliocentric positions generated.')\n",
    " \n",
    "    \n",
    "    # tracklet position for filtered pairs\n",
    "    x = posu[:-1,:]\n",
    "    # tracklet time\n",
    "    t = df['time'].values\n",
    "    # tracklet velocity through forward differencing\n",
    "    va = []\n",
    "    vapp = va.append\n",
    "    dt = t[1:]-t[0:-1]\n",
    "    dx = posu[1:,:]-posu[0:-1,:]\n",
    "    for d in range(0,3):\n",
    "        vapp(np.divide(dx[:,d],dt))\n",
    "    v = np.array(va).T\n",
    "    t= df['time'].values[:-1]\n",
    "    # correct arrows for light travel time\n",
    "    if(lttc):\n",
    "        if(verbose):\n",
    "            print('(Linear correction for light travel time aberration...')\n",
    "        xo = observer[:-1,:]\n",
    "        dist = vec.norm(x-xo)\n",
    "        xl = x.T-dist/c_aupd*v.T\n",
    "        return xl.T, v, t\n",
    "\n",
    "    else:\n",
    "        return x, v, t"
   ]
  },
  {
   "cell_type": "code",
   "execution_count": 20,
   "metadata": {},
   "outputs": [],
   "source": [
    "def select3obs(df, method='max_arc', return_df=True, **kwargs):\n",
    "    \"\"\"Select three observations from an observation dataframe.\n",
    "    \n",
    "    Parameters:\n",
    "    -----------\n",
    "    df        ... Pandas DataFrame containing nightly RA and DEC [deg], time [JD, MJD] UTC,\n",
    "                  heliocentric ecliptic observer positions and velocities [au]\n",
    "                  \n",
    "    Keyword Arguments:\n",
    "    ------------------\n",
    "    method    ... method for selecting three observations: \n",
    "                  'max_arc': maximise observation arc\n",
    "                  'random': uniform random sampling\n",
    "    return_df ... boolean (default True): return dataframe conainting data from three observations only\n",
    "                \n",
    "    Returns:\n",
    "    --------\n",
    "    idx    ... DataFrame Indices for selection \n",
    "    \n",
    "    \"\"\"\n",
    "     \n",
    "    if(method == 'max_arc'):\n",
    "        idx=[]\n",
    "        idx_add=idx.append\n",
    "        tmin=df['time'].min()\n",
    "        tmax=df['time'].max()\n",
    "        tcenter=(tmax+tmin)/2\n",
    "        \n",
    "        idx_add(df[(df['time']==df['time'].min())].index[0])\n",
    "        idx_add(df.iloc[(df['time']-tcenter).abs().argsort()[0:1]].index[0])\n",
    "        idx_add(df[(df['time']==df['time'].max())].index[0])\n",
    "    \n",
    "    elif(method == 'random'):\n",
    "        idx=np.random.choice(df.index,3, replace=False)\n",
    "        \n",
    "    else:\n",
    "        raise Exception(\"Error in select3obs: Unknown selection method. \")\n",
    "    \n",
    "    if(return_df):\n",
    "        return idx, df.loc[idx]\n",
    "    else:\n",
    "        return idx "
   ]
  },
  {
   "cell_type": "code",
   "execution_count": 21,
   "metadata": {},
   "outputs": [],
   "source": [
    "def iodFilter(df, **kwargs):\n",
    "    \"\"\"Initial orbit determination from a set of Right Ascension and Declination observations.\n",
    "    \n",
    "    Parameters:\n",
    "    -----------\n",
    "    df                ... Pandas DataFrame containing nightly RA and DEC [deg], time [JD, MJD] UTC,\n",
    "                          heliocentric ecliptic observer positions and velocities [au]\n",
    "    \n",
    "    Returns:\n",
    "    --------\n",
    "    rms               ... root mean square (RMS) of RA and DEC O-Cs [arcseconds]\n",
    "    epoch             ... epoch of best fit orbit\n",
    "    state             ... state of best fit orbit (x,y,z,vx,vy,vz) [au, au/day]\n",
    "    \"\"\"\n",
    "    \n",
    "    [idx, threeobs] = select3obs(df, return_df=True, method='max_arc')\n",
    "    \n",
    "    coords_eq_ang = threeobs[['RA','DEC']].values\n",
    "    t = threeobs['time'].values\n",
    "    coords_obs = threeobs[['x_obs','y_obs','z_obs']].values\n",
    "    \n",
    "    gauss_sol = iod.gaussIOD(coords_eq_ang, t, coords_obs, \n",
    "                           velocity_method='gibbs', light_time=True, iterate=True, \n",
    "                           mu=0.0002959122082855911, max_iter=10, tol=1e-15)\n",
    "       \n",
    "#     if (orbital_elements):\n",
    "#         oe_sol=[]\n",
    "#         for sol in gauss_sol:\n",
    "#             oe_sol.append(tr.cartesian2cometary(sol[0], sol[1:7], mu=cnst.GM))\n",
    "    \n",
    "    rms_all = np.zeros(3)\n",
    "    i=0\n",
    "    for sol in gauss_sol:\n",
    "        [rms, dra, ddec] = ephem.radecResiduals(df, sol[0], sol[1:7], output_units='arcsec')\n",
    "        rms_all[i]=rms \n",
    "        i=i+1   \n",
    "    \n",
    "    i_min=np.argmin(rms_all)\n",
    "    \n",
    "    # print best state with lowest RMS\n",
    "    return rms_all[i_min], gauss_sol[i_min][0], gauss_sol[i_min][1:7]\n"
   ]
  },
  {
   "cell_type": "code",
   "execution_count": null,
   "metadata": {},
   "outputs": [],
   "source": [
    "def collapseClusterSubsets(cdf):\n",
    "    \"\"\"Merge clusters that are subsets of each other \n",
    "    as produced by HelioLinC2.\n",
    "\n",
    "    Parameters:\n",
    "    -----------\n",
    "    cdf ... Pandas DataFrame containing object ID (objId), observation ID (obsId)\n",
    "              \n",
    "    Returns:\n",
    "    --------\n",
    "    cdf2                ... collapsed Pandas DataFrame \n",
    "    subset_clusters     ... indices of input dataframe (cdf) that are subsets\n",
    "    subset_cluster_ids  ... linked list of cluster ids [i,j] where j is a subset of i\n",
    "    \"\"\"\n",
    "    \n",
    "   \n",
    "    #for index, row in clusters_df.iterrows():\n",
    "    vals=cdf.obsId.values\n",
    "    subset_clusters=[]\n",
    "    subset_clusters_app=subset_clusters.append\n",
    "    subset_cluster_ids=[]\n",
    "    subset_cluster_ids_app=subset_cluster_ids.append\n",
    "\n",
    "    \n",
    "    cdf_idx = range(0,len(cdf))\n",
    "    cdf2 = cdf.reset_index(drop=True)\n",
    " \n",
    "    vals_set=[]\n",
    "    vals_set_app=vals_set.append\n",
    "    vals_min=[]\n",
    "    vals_min_app=vals_min.append\n",
    "    vals_max=[]\n",
    "    vals_max_app=vals_max.append\n",
    "\n",
    "    for i in cdf_idx:\n",
    "        vals_set_app(set(vals[i]))          \n",
    "        vals_min_app(np.min(vals[i]))\n",
    "        vals_max_app(np.max(vals[i]))         \n",
    "\n",
    "    vmin=np.array(vals_min)\n",
    "    vmax=np.array(vals_max)\n",
    "\n",
    "    for i in cdf_idx:\n",
    "        for j in cdf_idx:\n",
    "            if(i != j):\n",
    "                    #use the fact that we have ordered sets here\n",
    "                    if(vmax[i]<vmin[j]):\n",
    "                        break\n",
    "                    elif(vmin[i]>vmax[j]):\n",
    "                        break\n",
    "                    else:\n",
    "                        is_subset=vals_set[i].issubset(vals_set[j])\n",
    "                        #print(i,j,is_subset)\n",
    "                        if(is_subset):\n",
    "                            subset_clusters_app(i)\n",
    "                            subset_cluster_ids_app([i,j])\n",
    "                            break\n",
    "        #if(np.mod(i, 1000) == 0):                \n",
    "        #    print('Progress [%], ', i/cdf_idx[-1]*100)\n",
    "\n",
    "    idx_to_drop = subset_clusters\n",
    "    #print(idx_to_drop)\n",
    "    \n",
    "    cdf3 = cdf2.drop(index=idx_to_drop)\n",
    "    return cdf3, subset_clusters, subset_cluster_ids "
   ]
  },
  {
   "cell_type": "code",
   "execution_count": 430,
   "metadata": {},
   "outputs": [],
   "source": [
    "def discoverableObjectsJPL(df, min_n_nights, min_n_obs_per_night):\n",
    "    \"\"\"Which asteroids are discoverable?\n",
    "    \n",
    "    Parameters:\n",
    "    -----------\n",
    "    df                      ... Simulated observations dataframe containing observations, night, and objId\n",
    "    min_n_nights            ... minimum number of nights with min_n_obs_per_night observations required for discovery\n",
    "    min_n_obs_per_night     ... minimum number of observations per night required for discovery\n",
    "    \n",
    "    Returns:\n",
    "    --------\n",
    "    n_disc      ... number of objects that should be discoverable given the observational data in df\n",
    "    disc_objId  ... a list of object Ids of discoverable objects \n",
    "    \"\"\"\n",
    "    \n",
    "    obs_grouped_by_objId=dfobs.groupby([ 'objId','night'])\n",
    "    objId_night=np.array(list(obs_grouped_by_objId['night'].groups.keys()))\n",
    "    objId_night_Nobs=objId_night[(obs_grouped_by_objId['obj'].count()>min_n_obs_per_night)]\n",
    "    nnights_per_obj_with_geNobs=np.bincount(objId_night_Nobs[:,0])\n",
    "    \n",
    "    #n_disc=len(nnights_per_obj_with_geNobs[(nnights_per_obj_with_geNobs>= min_n_nights)])\n",
    "    \n",
    "    objs_to_be_discovered=np.where(nnights_per_obj_with_geNobs>= min_n_nights)[0]\n",
    "    # the first two obects in the JPL database are FD and NS\n",
    "    disc_objId=dfobs['obj'][(dfobs['objId'].isin(objs_to_be_discovered[2:]))].unique()\n",
    "    \n",
    "    n_disc=len(disc_objId)\n",
    "\n",
    "    return n_disc, disc_objId"
   ]
  },
  {
   "cell_type": "code",
   "execution_count": 920,
   "metadata": {},
   "outputs": [],
   "source": [
    "# How many clusters are pure?\n",
    "\n",
    "def clusterPurity(objects_in_cluster_df):\n",
    "    \"\"\"Determine purity of clusters.\n",
    "    \n",
    "    Parameters:\n",
    "    -----------\n",
    "    objects_in_cluster_df ...Pandas DataFrame containing objID and clusterId (as index)\n",
    "    \n",
    "    Returns:\n",
    "    --------\n",
    "    n_pure     ... number of pure clusters containing only observations of one object\n",
    "    percentage ... percentage with respect to number of clusters: len(objects_in_cluster_df)\n",
    "    n_noise    ... number of noise clusters\n",
    "    \"\"\"\n",
    "    #len1=[]\n",
    "    #len1_add=len1.append\n",
    "    n_pure=0\n",
    "    n_noise=0\n",
    "    for index, row in objects_in_cluster_df.iterrows():\n",
    "        if(len(row[0]) == 1):\n",
    "            if(row[0]!=['FD'] and row[0]!=['NS']):\n",
    "                #len1_add([index, row])\n",
    "                n_pure=n_pure+1\n",
    "            else:\n",
    "                n_noise=n_noise+1\n",
    "                \n",
    "    #n_pure=len(len1)\n",
    "    percentage = np.round(n_pure/len(objects_in_cluster_df.index)*100,2)\n",
    "    return n_pure, percentage, n_noise"
   ]
  },
  {
   "cell_type": "code",
   "execution_count": 921,
   "metadata": {},
   "outputs": [],
   "source": [
    "def objectsInClusters(obs_df, cluster_df):\n",
    "    \"\"\"Convert observations in a cluster to unique object names.\n",
    "\n",
    "    Parameters:\n",
    "    -----------\n",
    "    obs_df      ... Pandas DataFrame containing observations and object IDs\n",
    "    cluster_df  ... Pandas DataFrame containing observations in each cluster\n",
    "\n",
    "    Returns:\n",
    "    --------\n",
    "    ofdf.index                ... index / clusterId of cluster_df\n",
    "    objects_in_cluster   ... list of object designations in cluster\n",
    "    \"\"\"\n",
    "    objects_in_cluster = []\n",
    "    objects_in_cluster_add = objects_in_cluster.append\n",
    "\n",
    "    for index, row in cluster_df.iterrows():\n",
    "        obj=obs_df['obj'][obs_df['obsId'].isin(row['obsId'])].unique()\n",
    "        objects_in_cluster_add(obj)\n",
    "        \n",
    "    obj_ic=np.array(objects_in_cluster)\n",
    "\n",
    "    objects_in_cluster_df=pd.DataFrame(obj_ic, columns=['objId'])\n",
    "\n",
    "    return len(objects_in_cluster_df.index), objects_in_cluster_df"
   ]
  },
  {
   "cell_type": "markdown",
   "metadata": {},
   "source": [
    "## SIMULATED OBSERVATIONS \n",
    "\n",
    "\n",
    "1) Select observations from JPL Dataset"
   ]
  },
  {
   "cell_type": "code",
   "execution_count": 22,
   "metadata": {},
   "outputs": [
    {
     "name": "stdout",
     "output_type": "stream",
     "text": [
      "nn <= 52404 AND nn >= 52390\n",
      "CPU times: user 10.6 s, sys: 2.74 s, total: 13.4 s\n",
      "Wall time: 14.2 s\n"
     ]
    }
   ],
   "source": [
    "%%time\n",
    "#dfjpl=grab_n_days_of_JPL_data(jpl_data_path,0,6)\n",
    "#5deg x 5deg, 14 days \n",
    "dfjpl= grab_n_nights_of_JPL_data_in_field(jpl_data_path,0,14, 168, 173, -15, -10)"
   ]
  },
  {
   "cell_type": "markdown",
   "metadata": {},
   "source": [
    "2) Extract epochs of observations and query JPL Horizons for the corresponding observer states"
   ]
  },
  {
   "cell_type": "code",
   "execution_count": 23,
   "metadata": {},
   "outputs": [],
   "source": [
    "#Observer location MPC code\n",
    "observer_location='I11'\n",
    "#Epochs of observation\n",
    "obs_epochs=tr.mjd2jd(dfjpl['epoch_mjd'].values)\n",
    "#time between observations\n",
    "ephemeris_dt='1h'"
   ]
  },
  {
   "cell_type": "code",
   "execution_count": 24,
   "metadata": {},
   "outputs": [],
   "source": [
    "[observer_xyz, observer_vxyz]=ephem.get_observer_states(obs_epochs,observer_location,ephemeris_dt)"
   ]
  },
  {
   "cell_type": "code",
   "execution_count": 25,
   "metadata": {},
   "outputs": [
    {
     "data": {
      "text/plain": [
       "array([[-8.08596987e-01, -5.99238884e-01, -2.64921787e-05],\n",
       "       [-8.08596987e-01, -5.99238884e-01, -2.64921787e-05],\n",
       "       [-8.08596987e-01, -5.99238884e-01, -2.64921787e-05],\n",
       "       ...,\n",
       "       [-6.58676269e-01, -7.65370210e-01, -5.73859327e-06],\n",
       "       [-6.58676269e-01, -7.65370210e-01, -5.73859327e-06],\n",
       "       [-6.58676269e-01, -7.65370210e-01, -5.73859327e-06]])"
      ]
     },
     "execution_count": 25,
     "metadata": {},
     "output_type": "execute_result"
    }
   ],
   "source": [
    "observer_xyz"
   ]
  },
  {
   "cell_type": "code",
   "execution_count": 26,
   "metadata": {},
   "outputs": [
    {
     "data": {
      "text/plain": [
       "array([[ 9.82560033e-03, -1.40536344e-02,  7.59332502e-05],\n",
       "       [ 9.82560033e-03, -1.40536344e-02,  7.59332502e-05],\n",
       "       [ 9.82560033e-03, -1.40536344e-02,  7.59332502e-05],\n",
       "       ...,\n",
       "       [ 1.28747824e-02, -1.14797815e-02,  8.08952982e-05],\n",
       "       [ 1.28747824e-02, -1.14797815e-02,  8.08952982e-05],\n",
       "       [ 1.28747824e-02, -1.14797815e-02,  8.08952982e-05]])"
      ]
     },
     "execution_count": 26,
     "metadata": {},
     "output_type": "execute_result"
    }
   ],
   "source": [
    "observer_vxyz"
   ]
  },
  {
   "cell_type": "code",
   "execution_count": 27,
   "metadata": {},
   "outputs": [],
   "source": [
    "dfobs=dfjpl[['object_name','epoch_mjd','ra_deg','dec_deg']].rename(columns={'object_name':'obj','epoch_mjd':'time','ra_deg':'RA','dec_deg':'DEC'})\n",
    "#epoch_mjd\tra_deg\tra_sigma_deg\tdec_deg\tdec_sigma_deg\tmag\tmag_sigma\tfilter_id\tfield_id\tnn\tobject_name"
   ]
  },
  {
   "cell_type": "code",
   "execution_count": 28,
   "metadata": {},
   "outputs": [],
   "source": [
    "dfobs['x_obs']=observer_xyz[:,0]\n",
    "dfobs['y_obs']=observer_xyz[:,1]\n",
    "dfobs['z_obs']=observer_xyz[:,2]\n",
    "dfobs['vx_obs']=observer_vxyz[:,0]\n",
    "dfobs['vy_obs']=observer_vxyz[:,1]\n",
    "dfobs['vz_obs']=observer_vxyz[:,2]"
   ]
  },
  {
   "cell_type": "code",
   "execution_count": 29,
   "metadata": {},
   "outputs": [],
   "source": [
    "dfobs['night']=ls.lsstNight(dfobs['time'],dfobs['time'].min()).astype('Int32')"
   ]
  },
  {
   "cell_type": "code",
   "execution_count": 30,
   "metadata": {},
   "outputs": [
    {
     "data": {
      "text/html": [
       "<div>\n",
       "<style scoped>\n",
       "    .dataframe tbody tr th:only-of-type {\n",
       "        vertical-align: middle;\n",
       "    }\n",
       "\n",
       "    .dataframe tbody tr th {\n",
       "        vertical-align: top;\n",
       "    }\n",
       "\n",
       "    .dataframe thead th {\n",
       "        text-align: right;\n",
       "    }\n",
       "</style>\n",
       "<table border=\"1\" class=\"dataframe\">\n",
       "  <thead>\n",
       "    <tr style=\"text-align: right;\">\n",
       "      <th></th>\n",
       "      <th>obj</th>\n",
       "      <th>time</th>\n",
       "      <th>RA</th>\n",
       "      <th>DEC</th>\n",
       "      <th>x_obs</th>\n",
       "      <th>y_obs</th>\n",
       "      <th>z_obs</th>\n",
       "      <th>vx_obs</th>\n",
       "      <th>vy_obs</th>\n",
       "      <th>vz_obs</th>\n",
       "      <th>night</th>\n",
       "    </tr>\n",
       "  </thead>\n",
       "  <tbody>\n",
       "    <tr>\n",
       "      <th>0</th>\n",
       "      <td>S1009GjOa</td>\n",
       "      <td>52391.002282</td>\n",
       "      <td>171.368899</td>\n",
       "      <td>-12.504937</td>\n",
       "      <td>-0.808597</td>\n",
       "      <td>-0.599239</td>\n",
       "      <td>-0.000026</td>\n",
       "      <td>0.009826</td>\n",
       "      <td>-0.014054</td>\n",
       "      <td>0.000076</td>\n",
       "      <td>0</td>\n",
       "    </tr>\n",
       "    <tr>\n",
       "      <th>1</th>\n",
       "      <td>S1001QUsa</td>\n",
       "      <td>52391.002282</td>\n",
       "      <td>169.318742</td>\n",
       "      <td>-13.021633</td>\n",
       "      <td>-0.808597</td>\n",
       "      <td>-0.599239</td>\n",
       "      <td>-0.000026</td>\n",
       "      <td>0.009826</td>\n",
       "      <td>-0.014054</td>\n",
       "      <td>0.000076</td>\n",
       "      <td>0</td>\n",
       "    </tr>\n",
       "    <tr>\n",
       "      <th>2</th>\n",
       "      <td>S10036B8a</td>\n",
       "      <td>52391.002282</td>\n",
       "      <td>170.375067</td>\n",
       "      <td>-12.218251</td>\n",
       "      <td>-0.808597</td>\n",
       "      <td>-0.599239</td>\n",
       "      <td>-0.000026</td>\n",
       "      <td>0.009826</td>\n",
       "      <td>-0.014054</td>\n",
       "      <td>0.000076</td>\n",
       "      <td>0</td>\n",
       "    </tr>\n",
       "    <tr>\n",
       "      <th>3</th>\n",
       "      <td>S100aAWQa</td>\n",
       "      <td>52391.002282</td>\n",
       "      <td>171.392970</td>\n",
       "      <td>-14.233830</td>\n",
       "      <td>-0.808597</td>\n",
       "      <td>-0.599239</td>\n",
       "      <td>-0.000026</td>\n",
       "      <td>0.009826</td>\n",
       "      <td>-0.014054</td>\n",
       "      <td>0.000076</td>\n",
       "      <td>0</td>\n",
       "    </tr>\n",
       "    <tr>\n",
       "      <th>4</th>\n",
       "      <td>S1001DTsa</td>\n",
       "      <td>52391.002282</td>\n",
       "      <td>171.308411</td>\n",
       "      <td>-14.222651</td>\n",
       "      <td>-0.808597</td>\n",
       "      <td>-0.599239</td>\n",
       "      <td>-0.000026</td>\n",
       "      <td>0.009826</td>\n",
       "      <td>-0.014054</td>\n",
       "      <td>0.000076</td>\n",
       "      <td>0</td>\n",
       "    </tr>\n",
       "    <tr>\n",
       "      <th>...</th>\n",
       "      <td>...</td>\n",
       "      <td>...</td>\n",
       "      <td>...</td>\n",
       "      <td>...</td>\n",
       "      <td>...</td>\n",
       "      <td>...</td>\n",
       "      <td>...</td>\n",
       "      <td>...</td>\n",
       "      <td>...</td>\n",
       "      <td>...</td>\n",
       "      <td>...</td>\n",
       "    </tr>\n",
       "    <tr>\n",
       "      <th>77690</th>\n",
       "      <td>FD</td>\n",
       "      <td>52404.143830</td>\n",
       "      <td>168.246340</td>\n",
       "      <td>-10.054649</td>\n",
       "      <td>-0.658676</td>\n",
       "      <td>-0.765370</td>\n",
       "      <td>-0.000006</td>\n",
       "      <td>0.012875</td>\n",
       "      <td>-0.011480</td>\n",
       "      <td>0.000081</td>\n",
       "      <td>13</td>\n",
       "    </tr>\n",
       "    <tr>\n",
       "      <th>77691</th>\n",
       "      <td>FD</td>\n",
       "      <td>52404.143830</td>\n",
       "      <td>168.169379</td>\n",
       "      <td>-10.115589</td>\n",
       "      <td>-0.658676</td>\n",
       "      <td>-0.765370</td>\n",
       "      <td>-0.000006</td>\n",
       "      <td>0.012875</td>\n",
       "      <td>-0.011480</td>\n",
       "      <td>0.000081</td>\n",
       "      <td>13</td>\n",
       "    </tr>\n",
       "    <tr>\n",
       "      <th>77692</th>\n",
       "      <td>FD</td>\n",
       "      <td>52404.143830</td>\n",
       "      <td>168.197432</td>\n",
       "      <td>-10.128132</td>\n",
       "      <td>-0.658676</td>\n",
       "      <td>-0.765370</td>\n",
       "      <td>-0.000006</td>\n",
       "      <td>0.012875</td>\n",
       "      <td>-0.011480</td>\n",
       "      <td>0.000081</td>\n",
       "      <td>13</td>\n",
       "    </tr>\n",
       "    <tr>\n",
       "      <th>77693</th>\n",
       "      <td>FD</td>\n",
       "      <td>52404.143830</td>\n",
       "      <td>168.273093</td>\n",
       "      <td>-10.004619</td>\n",
       "      <td>-0.658676</td>\n",
       "      <td>-0.765370</td>\n",
       "      <td>-0.000006</td>\n",
       "      <td>0.012875</td>\n",
       "      <td>-0.011480</td>\n",
       "      <td>0.000081</td>\n",
       "      <td>13</td>\n",
       "    </tr>\n",
       "    <tr>\n",
       "      <th>77694</th>\n",
       "      <td>FD</td>\n",
       "      <td>52404.143830</td>\n",
       "      <td>168.127077</td>\n",
       "      <td>-10.111775</td>\n",
       "      <td>-0.658676</td>\n",
       "      <td>-0.765370</td>\n",
       "      <td>-0.000006</td>\n",
       "      <td>0.012875</td>\n",
       "      <td>-0.011480</td>\n",
       "      <td>0.000081</td>\n",
       "      <td>13</td>\n",
       "    </tr>\n",
       "  </tbody>\n",
       "</table>\n",
       "<p>77695 rows × 11 columns</p>\n",
       "</div>"
      ],
      "text/plain": [
       "             obj          time          RA        DEC     x_obs     y_obs  \\\n",
       "0      S1009GjOa  52391.002282  171.368899 -12.504937 -0.808597 -0.599239   \n",
       "1      S1001QUsa  52391.002282  169.318742 -13.021633 -0.808597 -0.599239   \n",
       "2      S10036B8a  52391.002282  170.375067 -12.218251 -0.808597 -0.599239   \n",
       "3      S100aAWQa  52391.002282  171.392970 -14.233830 -0.808597 -0.599239   \n",
       "4      S1001DTsa  52391.002282  171.308411 -14.222651 -0.808597 -0.599239   \n",
       "...          ...           ...         ...        ...       ...       ...   \n",
       "77690         FD  52404.143830  168.246340 -10.054649 -0.658676 -0.765370   \n",
       "77691         FD  52404.143830  168.169379 -10.115589 -0.658676 -0.765370   \n",
       "77692         FD  52404.143830  168.197432 -10.128132 -0.658676 -0.765370   \n",
       "77693         FD  52404.143830  168.273093 -10.004619 -0.658676 -0.765370   \n",
       "77694         FD  52404.143830  168.127077 -10.111775 -0.658676 -0.765370   \n",
       "\n",
       "          z_obs    vx_obs    vy_obs    vz_obs  night  \n",
       "0     -0.000026  0.009826 -0.014054  0.000076      0  \n",
       "1     -0.000026  0.009826 -0.014054  0.000076      0  \n",
       "2     -0.000026  0.009826 -0.014054  0.000076      0  \n",
       "3     -0.000026  0.009826 -0.014054  0.000076      0  \n",
       "4     -0.000026  0.009826 -0.014054  0.000076      0  \n",
       "...         ...       ...       ...       ...    ...  \n",
       "77690 -0.000006  0.012875 -0.011480  0.000081     13  \n",
       "77691 -0.000006  0.012875 -0.011480  0.000081     13  \n",
       "77692 -0.000006  0.012875 -0.011480  0.000081     13  \n",
       "77693 -0.000006  0.012875 -0.011480  0.000081     13  \n",
       "77694 -0.000006  0.012875 -0.011480  0.000081     13  \n",
       "\n",
       "[77695 rows x 11 columns]"
      ]
     },
     "execution_count": 30,
     "metadata": {},
     "output_type": "execute_result"
    }
   ],
   "source": [
    "dfobs"
   ]
  },
  {
   "cell_type": "markdown",
   "metadata": {},
   "source": [
    "## If LSST observations are used from file uncomment the following cell:"
   ]
  },
  {
   "cell_type": "code",
   "execution_count": 47,
   "metadata": {},
   "outputs": [],
   "source": [
    "#dfobs=pd.read_csv('../data/lsst_sso_534_obs.tar.gz',sep='\\s+',nrows=1200)"
   ]
  },
  {
   "cell_type": "code",
   "execution_count": 48,
   "metadata": {},
   "outputs": [
    {
     "data": {
      "text/html": [
       "<div>\n",
       "<style scoped>\n",
       "    .dataframe tbody tr th:only-of-type {\n",
       "        vertical-align: middle;\n",
       "    }\n",
       "\n",
       "    .dataframe tbody tr th {\n",
       "        vertical-align: top;\n",
       "    }\n",
       "\n",
       "    .dataframe thead th {\n",
       "        text-align: right;\n",
       "    }\n",
       "</style>\n",
       "<table border=\"1\" class=\"dataframe\">\n",
       "  <thead>\n",
       "    <tr style=\"text-align: right;\">\n",
       "      <th></th>\n",
       "      <th>obj</th>\n",
       "      <th>time</th>\n",
       "      <th>RA</th>\n",
       "      <th>DEC</th>\n",
       "      <th>x_obs</th>\n",
       "      <th>y_obs</th>\n",
       "      <th>z_obs</th>\n",
       "      <th>vx_obs</th>\n",
       "      <th>vy_obs</th>\n",
       "      <th>vz_obs</th>\n",
       "      <th>night</th>\n",
       "    </tr>\n",
       "  </thead>\n",
       "  <tbody>\n",
       "    <tr>\n",
       "      <th>0</th>\n",
       "      <td>S1009GjOa</td>\n",
       "      <td>52391.002282</td>\n",
       "      <td>171.368899</td>\n",
       "      <td>-12.504937</td>\n",
       "      <td>-0.808597</td>\n",
       "      <td>-0.599239</td>\n",
       "      <td>-0.000026</td>\n",
       "      <td>0.009826</td>\n",
       "      <td>-0.014054</td>\n",
       "      <td>0.000076</td>\n",
       "      <td>0</td>\n",
       "    </tr>\n",
       "    <tr>\n",
       "      <th>1</th>\n",
       "      <td>S1001QUsa</td>\n",
       "      <td>52391.002282</td>\n",
       "      <td>169.318742</td>\n",
       "      <td>-13.021633</td>\n",
       "      <td>-0.808597</td>\n",
       "      <td>-0.599239</td>\n",
       "      <td>-0.000026</td>\n",
       "      <td>0.009826</td>\n",
       "      <td>-0.014054</td>\n",
       "      <td>0.000076</td>\n",
       "      <td>0</td>\n",
       "    </tr>\n",
       "    <tr>\n",
       "      <th>2</th>\n",
       "      <td>S10036B8a</td>\n",
       "      <td>52391.002282</td>\n",
       "      <td>170.375067</td>\n",
       "      <td>-12.218251</td>\n",
       "      <td>-0.808597</td>\n",
       "      <td>-0.599239</td>\n",
       "      <td>-0.000026</td>\n",
       "      <td>0.009826</td>\n",
       "      <td>-0.014054</td>\n",
       "      <td>0.000076</td>\n",
       "      <td>0</td>\n",
       "    </tr>\n",
       "    <tr>\n",
       "      <th>3</th>\n",
       "      <td>S100aAWQa</td>\n",
       "      <td>52391.002282</td>\n",
       "      <td>171.392970</td>\n",
       "      <td>-14.233830</td>\n",
       "      <td>-0.808597</td>\n",
       "      <td>-0.599239</td>\n",
       "      <td>-0.000026</td>\n",
       "      <td>0.009826</td>\n",
       "      <td>-0.014054</td>\n",
       "      <td>0.000076</td>\n",
       "      <td>0</td>\n",
       "    </tr>\n",
       "    <tr>\n",
       "      <th>4</th>\n",
       "      <td>S1001DTsa</td>\n",
       "      <td>52391.002282</td>\n",
       "      <td>171.308411</td>\n",
       "      <td>-14.222651</td>\n",
       "      <td>-0.808597</td>\n",
       "      <td>-0.599239</td>\n",
       "      <td>-0.000026</td>\n",
       "      <td>0.009826</td>\n",
       "      <td>-0.014054</td>\n",
       "      <td>0.000076</td>\n",
       "      <td>0</td>\n",
       "    </tr>\n",
       "    <tr>\n",
       "      <th>5</th>\n",
       "      <td>S1008Q8Da</td>\n",
       "      <td>52391.002282</td>\n",
       "      <td>170.582069</td>\n",
       "      <td>-12.248939</td>\n",
       "      <td>-0.808597</td>\n",
       "      <td>-0.599239</td>\n",
       "      <td>-0.000026</td>\n",
       "      <td>0.009826</td>\n",
       "      <td>-0.014054</td>\n",
       "      <td>0.000076</td>\n",
       "      <td>0</td>\n",
       "    </tr>\n",
       "    <tr>\n",
       "      <th>6</th>\n",
       "      <td>S100dQNoa</td>\n",
       "      <td>52391.002282</td>\n",
       "      <td>168.832741</td>\n",
       "      <td>-12.103015</td>\n",
       "      <td>-0.808597</td>\n",
       "      <td>-0.599239</td>\n",
       "      <td>-0.000026</td>\n",
       "      <td>0.009826</td>\n",
       "      <td>-0.014054</td>\n",
       "      <td>0.000076</td>\n",
       "      <td>0</td>\n",
       "    </tr>\n",
       "    <tr>\n",
       "      <th>7</th>\n",
       "      <td>S1004whRa</td>\n",
       "      <td>52391.002282</td>\n",
       "      <td>171.183715</td>\n",
       "      <td>-13.576337</td>\n",
       "      <td>-0.808597</td>\n",
       "      <td>-0.599239</td>\n",
       "      <td>-0.000026</td>\n",
       "      <td>0.009826</td>\n",
       "      <td>-0.014054</td>\n",
       "      <td>0.000076</td>\n",
       "      <td>0</td>\n",
       "    </tr>\n",
       "    <tr>\n",
       "      <th>8</th>\n",
       "      <td>S1000gIia</td>\n",
       "      <td>52391.002282</td>\n",
       "      <td>169.879839</td>\n",
       "      <td>-11.317941</td>\n",
       "      <td>-0.808597</td>\n",
       "      <td>-0.599239</td>\n",
       "      <td>-0.000026</td>\n",
       "      <td>0.009826</td>\n",
       "      <td>-0.014054</td>\n",
       "      <td>0.000076</td>\n",
       "      <td>0</td>\n",
       "    </tr>\n",
       "    <tr>\n",
       "      <th>9</th>\n",
       "      <td>S100a4cua</td>\n",
       "      <td>52391.002282</td>\n",
       "      <td>170.612881</td>\n",
       "      <td>-11.978926</td>\n",
       "      <td>-0.808597</td>\n",
       "      <td>-0.599239</td>\n",
       "      <td>-0.000026</td>\n",
       "      <td>0.009826</td>\n",
       "      <td>-0.014054</td>\n",
       "      <td>0.000076</td>\n",
       "      <td>0</td>\n",
       "    </tr>\n",
       "  </tbody>\n",
       "</table>\n",
       "</div>"
      ],
      "text/plain": [
       "         obj          time          RA        DEC     x_obs     y_obs  \\\n",
       "0  S1009GjOa  52391.002282  171.368899 -12.504937 -0.808597 -0.599239   \n",
       "1  S1001QUsa  52391.002282  169.318742 -13.021633 -0.808597 -0.599239   \n",
       "2  S10036B8a  52391.002282  170.375067 -12.218251 -0.808597 -0.599239   \n",
       "3  S100aAWQa  52391.002282  171.392970 -14.233830 -0.808597 -0.599239   \n",
       "4  S1001DTsa  52391.002282  171.308411 -14.222651 -0.808597 -0.599239   \n",
       "5  S1008Q8Da  52391.002282  170.582069 -12.248939 -0.808597 -0.599239   \n",
       "6  S100dQNoa  52391.002282  168.832741 -12.103015 -0.808597 -0.599239   \n",
       "7  S1004whRa  52391.002282  171.183715 -13.576337 -0.808597 -0.599239   \n",
       "8  S1000gIia  52391.002282  169.879839 -11.317941 -0.808597 -0.599239   \n",
       "9  S100a4cua  52391.002282  170.612881 -11.978926 -0.808597 -0.599239   \n",
       "\n",
       "      z_obs    vx_obs    vy_obs    vz_obs  night  \n",
       "0 -0.000026  0.009826 -0.014054  0.000076      0  \n",
       "1 -0.000026  0.009826 -0.014054  0.000076      0  \n",
       "2 -0.000026  0.009826 -0.014054  0.000076      0  \n",
       "3 -0.000026  0.009826 -0.014054  0.000076      0  \n",
       "4 -0.000026  0.009826 -0.014054  0.000076      0  \n",
       "5 -0.000026  0.009826 -0.014054  0.000076      0  \n",
       "6 -0.000026  0.009826 -0.014054  0.000076      0  \n",
       "7 -0.000026  0.009826 -0.014054  0.000076      0  \n",
       "8 -0.000026  0.009826 -0.014054  0.000076      0  \n",
       "9 -0.000026  0.009826 -0.014054  0.000076      0  "
      ]
     },
     "execution_count": 48,
     "metadata": {},
     "output_type": "execute_result"
    }
   ],
   "source": [
    "# check observation dataframe: must contain time, RA, DEC, x_obs, y_obs, z_obs\n",
    "dfobs[0:10]"
   ]
  },
  {
   "cell_type": "code",
   "execution_count": 52,
   "metadata": {},
   "outputs": [],
   "source": [
    "#Making numerical categories from object data\n",
    "dfobs['objId']=dfobs.obj.astype('category').cat.codes"
   ]
  },
  {
   "cell_type": "code",
   "execution_count": 53,
   "metadata": {},
   "outputs": [],
   "source": [
    "#save a csv output \n",
    "#df.to_csv('observations_database.csv')"
   ]
  },
  {
   "cell_type": "code",
   "execution_count": 54,
   "metadata": {},
   "outputs": [
    {
     "data": {
      "text/plain": [
       "array([[-8.08596987e-01, -5.99238884e-01, -2.64921787e-05],\n",
       "       [-8.08596987e-01, -5.99238884e-01, -2.64921787e-05],\n",
       "       [-8.08596987e-01, -5.99238884e-01, -2.64921787e-05],\n",
       "       ...,\n",
       "       [-6.58676269e-01, -7.65370210e-01, -5.73859327e-06],\n",
       "       [-6.58676269e-01, -7.65370210e-01, -5.73859327e-06],\n",
       "       [-6.58676269e-01, -7.65370210e-01, -5.73859327e-06]])"
      ]
     },
     "execution_count": 54,
     "metadata": {},
     "output_type": "execute_result"
    }
   ],
   "source": [
    "dfobs[['x_obs','y_obs','z_obs']].values"
   ]
  },
  {
   "cell_type": "code",
   "execution_count": 446,
   "metadata": {},
   "outputs": [],
   "source": [
    "[n,ids]=discoverableObjectsJPL(dfobs, 3, 2)"
   ]
  },
  {
   "cell_type": "code",
   "execution_count": 447,
   "metadata": {},
   "outputs": [
    {
     "data": {
      "text/plain": [
       "25"
      ]
     },
     "execution_count": 447,
     "metadata": {},
     "output_type": "execute_result"
    }
   ],
   "source": [
    "n"
   ]
  },
  {
   "cell_type": "code",
   "execution_count": 448,
   "metadata": {},
   "outputs": [
    {
     "data": {
      "text/plain": [
       "array(['S100aS6Pa', 'S1000mS6a', 'S100axLHa', 'S1001wbta', 'S100azRha',\n",
       "       'S100EmvQa', 'S1000sTba', 'S100ev1Ga', 'S100bfeLa', 'S100oZzSa',\n",
       "       'S10067eIa', 'S1004iyka', 'S100n4Cja', 'S1002KYPa', 'S100fzEfa',\n",
       "       'S100rYpKa', 'S100dJWva', 'S1005DaLa', 'S100ciULa', 'S100fxv5a',\n",
       "       'S1002eHEa', 'S1003kfZa', 'S100c9GBa', 'S100dIGPa', 'S1008DVTa'],\n",
       "      dtype=object)"
      ]
     },
     "execution_count": 448,
     "metadata": {},
     "output_type": "execute_result"
    }
   ],
   "source": [
    "ids"
   ]
  },
  {
   "cell_type": "markdown",
   "metadata": {},
   "source": [
    "### Let's build our KDTree and create arrows \n"
   ]
  },
  {
   "cell_type": "markdown",
   "metadata": {},
   "source": [
    "Run a quick test to see if the arrow generation was successul:"
   ]
  },
  {
   "cell_type": "code",
   "execution_count": 60,
   "metadata": {},
   "outputs": [],
   "source": [
    "df_grouped_by_night=dfobs.groupby('night')"
   ]
  },
  {
   "cell_type": "code",
   "execution_count": 61,
   "metadata": {},
   "outputs": [
    {
     "data": {
      "text/plain": [
       "7"
      ]
     },
     "execution_count": 61,
     "metadata": {},
     "output_type": "execute_result"
    }
   ],
   "source": [
    "len(df_grouped_by_night.groups)"
   ]
  },
  {
   "cell_type": "code",
   "execution_count": 266,
   "metadata": {},
   "outputs": [],
   "source": [
    "#r=2.6\n",
    "#drdt=-0.0001\n",
    "# max MBA motion in 8 hours based on orbital velocity distribution (0.11-0.12 hours/day)\n",
    "cr=0.002\n",
    "#cr=0.005/180*np.pi*2\n",
    "# max temporal separation for tracklet observations (days)\n",
    "ct_max=8/24\n",
    "# min temporal separation for tracklet observations, e.g. exposure time (days)\n",
    "ct_min=15/86400 \n",
    "\n",
    "\n",
    "#use astrometric uncertainty to determine clustering error (150mas (3sigma) )\n",
    "#astrometric_uncertainty=300/1000/3600/180*np.pi\n",
    "\n",
    "# DBSCAN clustering parameters\n",
    "#eps=astrometric_uncertainty*r\n",
    "\n",
    "min_samples=3\n"
   ]
  },
  {
   "cell_type": "code",
   "execution_count": 268,
   "metadata": {},
   "outputs": [
    {
     "data": {
      "text/plain": [
       "0.003"
      ]
     },
     "execution_count": 268,
     "metadata": {},
     "output_type": "execute_result"
    }
   ],
   "source": [
    "cr"
   ]
  },
  {
   "cell_type": "code",
   "execution_count": 269,
   "metadata": {},
   "outputs": [
    {
     "data": {
      "text/plain": [
       "dict_keys([0, 1, 3, 6, 10, 11, 13])"
      ]
     },
     "execution_count": 269,
     "metadata": {},
     "output_type": "execute_result"
    }
   ],
   "source": [
    "df_grouped_by_night.groups.keys()"
   ]
  },
  {
   "cell_type": "code",
   "execution_count": 451,
   "metadata": {},
   "outputs": [
    {
     "name": "stdout",
     "output_type": "stream",
     "text": [
      "<class 'pandas.core.frame.DataFrame'>\n",
      "RangeIndex: 77695 entries, 0 to 77694\n",
      "Data columns (total 13 columns):\n",
      " #   Column  Non-Null Count  Dtype  \n",
      "---  ------  --------------  -----  \n",
      " 0   obj     77695 non-null  object \n",
      " 1   time    77695 non-null  float64\n",
      " 2   RA      77695 non-null  float64\n",
      " 3   DEC     77695 non-null  float64\n",
      " 4   x_obs   77695 non-null  float64\n",
      " 5   y_obs   77695 non-null  float64\n",
      " 6   z_obs   77695 non-null  float64\n",
      " 7   vx_obs  77695 non-null  float64\n",
      " 8   vy_obs  77695 non-null  float64\n",
      " 9   vz_obs  77695 non-null  float64\n",
      " 10  night   77695 non-null  Int32  \n",
      " 11  obsId   77695 non-null  int64  \n",
      " 12  objId   77695 non-null  int16  \n",
      "dtypes: Int32(1), float64(9), int16(1), int64(1), object(1)\n",
      "memory usage: 7.0+ MB\n"
     ]
    }
   ],
   "source": [
    "# How much memory (MB) do we need to clone the database nprocs times?\n",
    "dfobs.info()"
   ]
  },
  {
   "cell_type": "code",
   "execution_count": 452,
   "metadata": {},
   "outputs": [
    {
     "data": {
      "text/plain": [
       "7.039216041564941"
      ]
     },
     "execution_count": 452,
     "metadata": {},
     "output_type": "execute_result"
    }
   ],
   "source": [
    "# Alternatively:\n",
    "np.sum(dfobs.memory_usage()/1024**2)"
   ]
  },
  {
   "cell_type": "markdown",
   "metadata": {},
   "source": [
    "## Run HelioLinC2"
   ]
  },
  {
   "cell_type": "code",
   "execution_count": 453,
   "metadata": {},
   "outputs": [
    {
     "name": "stdout",
     "output_type": "stream",
     "text": [
      "CPU times: user 1.05 ms, sys: 30 µs, total: 1.08 ms\n",
      "Wall time: 866 µs\n"
     ]
    }
   ],
   "source": [
    "\n",
    "# range of heliocentric distances\n",
    "rall=np.arange(2.,3.5,0.1)\n",
    "\n",
    "# range of heliocentric radial velocities\n",
    "drdtall=np.arange(-0.10,0.11,0.01)\n",
    "\n",
    "# Iterator for joblib based paralellization\n",
    "rrdot=np.array(np.meshgrid(rall,drdtall)).T.reshape(-1,2)\n",
    "len(rrdot)"
   ]
  },
  {
   "cell_type": "code",
   "execution_count": 454,
   "metadata": {},
   "outputs": [
    {
     "data": {
      "text/plain": [
       "315"
      ]
     },
     "execution_count": 454,
     "metadata": {},
     "output_type": "execute_result"
    }
   ],
   "source": []
  },
  {
   "cell_type": "code",
   "execution_count": 455,
   "metadata": {},
   "outputs": [],
   "source": [
    "# for r, drdt in rrdot:\n",
    "#     print(r,drdt)\n"
   ]
  },
  {
   "cell_type": "code",
   "execution_count": 456,
   "metadata": {},
   "outputs": [
    {
     "name": "stderr",
     "output_type": "stream",
     "text": [
      "\n",
      "\n",
      "\n",
      "\n",
      "\n",
      "  0%|          | 0/315 [00:00<?, ?it/s]\u001b[A\u001b[A\u001b[A\u001b[A\u001b[A\n",
      "\n",
      "\n",
      "\n",
      "\n",
      "  6%|▋         | 20/315 [00:01<00:14, 20.14it/s]\u001b[A\u001b[A\u001b[A\u001b[A\u001b[A\n",
      "\n",
      "\n",
      "\n",
      "\n",
      " 13%|█▎        | 40/315 [01:14<05:14,  1.14s/it]\u001b[A\u001b[A\u001b[A\u001b[A\u001b[A\n",
      "\n",
      "\n",
      "\n",
      "\n",
      " 19%|█▉        | 60/315 [02:10<06:57,  1.64s/it]\u001b[A\u001b[A\u001b[A\u001b[A\u001b[A/epyc/projects/pytrax_play/envs/pytrax_s/lib/python3.7/site-packages/joblib/externals/loky/process_executor.py:706: UserWarning:\n",
      "\n",
      "A worker stopped while some jobs were given to the executor. This can be caused by a too short worker timeout or by a memory leak.\n",
      "\n",
      "\n",
      "\n",
      "\n",
      "\n",
      "\n",
      " 25%|██▌       | 80/315 [03:09<07:58,  2.04s/it]\u001b[A\u001b[A\u001b[A\u001b[A\u001b[A\n",
      "\n",
      "\n",
      "\n",
      "\n",
      " 32%|███▏      | 100/315 [04:11<08:26,  2.36s/it]\u001b[A\u001b[A\u001b[A\u001b[A\u001b[A\n",
      "\n",
      "\n",
      "\n",
      "\n",
      " 38%|███▊      | 120/315 [05:04<07:54,  2.43s/it]\u001b[A\u001b[A\u001b[A\u001b[A\u001b[A\n",
      "\n",
      "\n",
      "\n",
      "\n",
      " 44%|████▍     | 140/315 [05:45<06:45,  2.32s/it]\u001b[A\u001b[A\u001b[A\u001b[A\u001b[A\n",
      "\n",
      "\n",
      "\n",
      "\n",
      " 51%|█████     | 160/315 [06:24<05:41,  2.20s/it]\u001b[A\u001b[A\u001b[A\u001b[A\u001b[A\n",
      "\n",
      "\n",
      "\n",
      "\n",
      " 57%|█████▋    | 180/315 [06:52<04:25,  1.97s/it]\u001b[A\u001b[A\u001b[A\u001b[A\u001b[A\n",
      "\n",
      "\n",
      "\n",
      "\n",
      " 63%|██████▎   | 200/315 [07:18<03:23,  1.77s/it]\u001b[A\u001b[A\u001b[A\u001b[A\u001b[A\n",
      "\n",
      "\n",
      "\n",
      "\n",
      " 70%|██████▉   | 220/315 [07:48<02:40,  1.69s/it]\u001b[A\u001b[A\u001b[A\u001b[A\u001b[A\n",
      "\n",
      "\n",
      "\n",
      "\n",
      " 76%|███████▌  | 240/315 [08:10<01:53,  1.51s/it]\u001b[A\u001b[A\u001b[A\u001b[A\u001b[A\n",
      "\n",
      "\n",
      "\n",
      "\n",
      " 83%|████████▎ | 260/315 [08:31<01:15,  1.38s/it]\u001b[A\u001b[A\u001b[A\u001b[A\u001b[A\n",
      "\n",
      "\n",
      "\n",
      "\n",
      " 89%|████████▉ | 280/315 [08:57<00:47,  1.35s/it]\u001b[A\u001b[A\u001b[A\u001b[A\u001b[A\n",
      "\n",
      "\n",
      "\n",
      "\n",
      "100%|██████████| 315/315 [09:27<00:00,  1.80s/it]\u001b[A\u001b[A\u001b[A\u001b[A\u001b[A\n"
     ]
    }
   ],
   "source": [
    "#%%time\n",
    "clusters_df=Parallel(n_jobs=20)(delayed(ls.heliolinc2)\n",
    "                                      (dfobs, r, drdt, cr, ct_min, ct_max,\n",
    "                                       clustering_algorithm='dbscan', lttc=False, \n",
    "                                       verbose=False, n_jobs=1) \n",
    "                                      for r, drdt in tqdm(rrdot) ) \n",
    "\n",
    "#        obs_in_cluster_df=ls.heliolinc2()\n",
    "#        print('total number of dataframes:',len(clusters_df))"
   ]
  },
  {
   "cell_type": "code",
   "execution_count": 457,
   "metadata": {},
   "outputs": [
    {
     "name": "stdout",
     "output_type": "stream",
     "text": [
      "total number of dataframes: 315\n"
     ]
    }
   ],
   "source": [
    "print('total number of dataframes:',len(clusters_df))"
   ]
  },
  {
   "cell_type": "code",
   "execution_count": 459,
   "metadata": {},
   "outputs": [
    {
     "name": "stdout",
     "output_type": "stream",
     "text": [
      "final step\n"
     ]
    },
    {
     "data": {
      "text/plain": [
       "63915"
      ]
     },
     "execution_count": 459,
     "metadata": {},
     "output_type": "execute_result"
    }
   ],
   "source": [
    "# # GENERATE FINAL DATAFRAME WITH CLUSTERING RESULTS  \n",
    "print('final step')\n",
    "clustered_observations = (pd.concat(clusters_df)).reset_index(drop=True)  \n",
    "len(clustered_observations)"
   ]
  },
  {
   "cell_type": "code",
   "execution_count": 461,
   "metadata": {},
   "outputs": [],
   "source": [
    "# DROP DUPLICATE CLUSTERS\n",
    "# clustered_observations_final=(clustered_observations.iloc[clustered_observations.astype(str).drop_duplicates(subset='obsId', keep=\"first\").index]).reset_index(drop=True)    \n",
    "clustered_observations_final=ls.deduplicateClusters(clustered_observations)"
   ]
  },
  {
   "cell_type": "code",
   "execution_count": 462,
   "metadata": {},
   "outputs": [
    {
     "data": {
      "text/html": [
       "<div>\n",
       "<style scoped>\n",
       "    .dataframe tbody tr th:only-of-type {\n",
       "        vertical-align: middle;\n",
       "    }\n",
       "\n",
       "    .dataframe tbody tr th {\n",
       "        vertical-align: top;\n",
       "    }\n",
       "\n",
       "    .dataframe thead th {\n",
       "        text-align: right;\n",
       "    }\n",
       "</style>\n",
       "<table border=\"1\" class=\"dataframe\">\n",
       "  <thead>\n",
       "    <tr style=\"text-align: right;\">\n",
       "      <th></th>\n",
       "      <th>clusterId</th>\n",
       "      <th>obsId</th>\n",
       "      <th>r</th>\n",
       "      <th>drdt</th>\n",
       "      <th>cluster_epoch</th>\n",
       "    </tr>\n",
       "  </thead>\n",
       "  <tbody>\n",
       "    <tr>\n",
       "      <th>0</th>\n",
       "      <td>0</td>\n",
       "      <td>[7810, 10379, 14869, 17221]</td>\n",
       "      <td>2.0</td>\n",
       "      <td>-1.000000e-01</td>\n",
       "      <td>52397.573056</td>\n",
       "    </tr>\n",
       "    <tr>\n",
       "      <th>1</th>\n",
       "      <td>1</td>\n",
       "      <td>[7903, 7944, 10405, 10411, 14995, 17255]</td>\n",
       "      <td>2.0</td>\n",
       "      <td>-1.000000e-01</td>\n",
       "      <td>52397.573056</td>\n",
       "    </tr>\n",
       "    <tr>\n",
       "      <th>2</th>\n",
       "      <td>2</td>\n",
       "      <td>[6748, 6787, 7845, 7868, 13900, 13932, 14896, ...</td>\n",
       "      <td>2.0</td>\n",
       "      <td>-1.000000e-01</td>\n",
       "      <td>52397.573056</td>\n",
       "    </tr>\n",
       "    <tr>\n",
       "      <th>3</th>\n",
       "      <td>3</td>\n",
       "      <td>[6755, 7889, 13905, 14943]</td>\n",
       "      <td>2.0</td>\n",
       "      <td>-1.000000e-01</td>\n",
       "      <td>52397.573056</td>\n",
       "    </tr>\n",
       "    <tr>\n",
       "      <th>4</th>\n",
       "      <td>4</td>\n",
       "      <td>[6757, 7231, 13906, 14334]</td>\n",
       "      <td>2.0</td>\n",
       "      <td>-1.000000e-01</td>\n",
       "      <td>52397.573056</td>\n",
       "    </tr>\n",
       "    <tr>\n",
       "      <th>...</th>\n",
       "      <td>...</td>\n",
       "      <td>...</td>\n",
       "      <td>...</td>\n",
       "      <td>...</td>\n",
       "      <td>...</td>\n",
       "    </tr>\n",
       "    <tr>\n",
       "      <th>1822</th>\n",
       "      <td>42</td>\n",
       "      <td>[7930, 12652, 25422, 28396, 32596, 37035, 39453]</td>\n",
       "      <td>3.4</td>\n",
       "      <td>-2.000000e-02</td>\n",
       "      <td>52397.573056</td>\n",
       "    </tr>\n",
       "    <tr>\n",
       "      <th>1823</th>\n",
       "      <td>0</td>\n",
       "      <td>[12652, 14343, 25422, 28396, 32596, 37035, 39453]</td>\n",
       "      <td>3.4</td>\n",
       "      <td>-1.000000e-02</td>\n",
       "      <td>52397.573056</td>\n",
       "    </tr>\n",
       "    <tr>\n",
       "      <th>1824</th>\n",
       "      <td>21</td>\n",
       "      <td>[56291, 62296, 70477, 74338, 76382]</td>\n",
       "      <td>3.4</td>\n",
       "      <td>-1.000000e-02</td>\n",
       "      <td>52397.573056</td>\n",
       "    </tr>\n",
       "    <tr>\n",
       "      <th>1825</th>\n",
       "      <td>17</td>\n",
       "      <td>[22640, 29755, 32247, 36722]</td>\n",
       "      <td>3.4</td>\n",
       "      <td>-5.551115e-17</td>\n",
       "      <td>52397.573056</td>\n",
       "    </tr>\n",
       "    <tr>\n",
       "      <th>1826</th>\n",
       "      <td>42</td>\n",
       "      <td>[22858, 25451, 29982, 32624, 37062, 63675, 74168]</td>\n",
       "      <td>3.4</td>\n",
       "      <td>4.000000e-02</td>\n",
       "      <td>52397.573056</td>\n",
       "    </tr>\n",
       "  </tbody>\n",
       "</table>\n",
       "<p>1827 rows × 5 columns</p>\n",
       "</div>"
      ],
      "text/plain": [
       "      clusterId                                              obsId    r  \\\n",
       "0             0                        [7810, 10379, 14869, 17221]  2.0   \n",
       "1             1           [7903, 7944, 10405, 10411, 14995, 17255]  2.0   \n",
       "2             2  [6748, 6787, 7845, 7868, 13900, 13932, 14896, ...  2.0   \n",
       "3             3                         [6755, 7889, 13905, 14943]  2.0   \n",
       "4             4                         [6757, 7231, 13906, 14334]  2.0   \n",
       "...         ...                                                ...  ...   \n",
       "1822         42   [7930, 12652, 25422, 28396, 32596, 37035, 39453]  3.4   \n",
       "1823          0  [12652, 14343, 25422, 28396, 32596, 37035, 39453]  3.4   \n",
       "1824         21                [56291, 62296, 70477, 74338, 76382]  3.4   \n",
       "1825         17                       [22640, 29755, 32247, 36722]  3.4   \n",
       "1826         42  [22858, 25451, 29982, 32624, 37062, 63675, 74168]  3.4   \n",
       "\n",
       "              drdt  cluster_epoch  \n",
       "0    -1.000000e-01   52397.573056  \n",
       "1    -1.000000e-01   52397.573056  \n",
       "2    -1.000000e-01   52397.573056  \n",
       "3    -1.000000e-01   52397.573056  \n",
       "4    -1.000000e-01   52397.573056  \n",
       "...            ...            ...  \n",
       "1822 -2.000000e-02   52397.573056  \n",
       "1823 -1.000000e-02   52397.573056  \n",
       "1824 -1.000000e-02   52397.573056  \n",
       "1825 -5.551115e-17   52397.573056  \n",
       "1826  4.000000e-02   52397.573056  \n",
       "\n",
       "[1827 rows x 5 columns]"
      ]
     },
     "execution_count": 462,
     "metadata": {},
     "output_type": "execute_result"
    }
   ],
   "source": [
    "clustered_observations_final"
   ]
  },
  {
   "cell_type": "code",
   "execution_count": 463,
   "metadata": {},
   "outputs": [],
   "source": [
    "cof=clustered_observations_final"
   ]
  },
  {
   "cell_type": "code",
   "execution_count": 721,
   "metadata": {},
   "outputs": [],
   "source": [
    "# Change from obsevations per cluster to unique objects per cluster\n",
    "\n",
    "#print(\"objects found in clusters\")\n",
    "objects_found = []\n",
    "objects_found_add = objects_found.append\n",
    "for index, row in cof.iterrows():\n",
    "    obj=dfobs['obj'][dfobs['obsId'].isin(row.obsId)].unique()\n",
    "    #print(obj)\n",
    "    objects_found_add(obj)\n",
    "\n",
    "of=np.array(objects_found)\n",
    "\n",
    "ofdf=pd.DataFrame(of, columns=['objId'])"
   ]
  },
  {
   "cell_type": "code",
   "execution_count": 722,
   "metadata": {},
   "outputs": [
    {
     "data": {
      "text/html": [
       "<div>\n",
       "<style scoped>\n",
       "    .dataframe tbody tr th:only-of-type {\n",
       "        vertical-align: middle;\n",
       "    }\n",
       "\n",
       "    .dataframe tbody tr th {\n",
       "        vertical-align: top;\n",
       "    }\n",
       "\n",
       "    .dataframe thead th {\n",
       "        text-align: right;\n",
       "    }\n",
       "</style>\n",
       "<table border=\"1\" class=\"dataframe\">\n",
       "  <thead>\n",
       "    <tr style=\"text-align: right;\">\n",
       "      <th></th>\n",
       "      <th>objId</th>\n",
       "    </tr>\n",
       "  </thead>\n",
       "  <tbody>\n",
       "    <tr>\n",
       "      <th>0</th>\n",
       "      <td>[S100azRha]</td>\n",
       "    </tr>\n",
       "    <tr>\n",
       "      <th>1</th>\n",
       "      <td>[S100fxv5a, S1000X4Ea]</td>\n",
       "    </tr>\n",
       "    <tr>\n",
       "      <th>2</th>\n",
       "      <td>[S1003c4ta, S100efYNa]</td>\n",
       "    </tr>\n",
       "    <tr>\n",
       "      <th>3</th>\n",
       "      <td>[S1000PJia]</td>\n",
       "    </tr>\n",
       "    <tr>\n",
       "      <th>4</th>\n",
       "      <td>[S10003uUa]</td>\n",
       "    </tr>\n",
       "    <tr>\n",
       "      <th>...</th>\n",
       "      <td>...</td>\n",
       "    </tr>\n",
       "    <tr>\n",
       "      <th>1822</th>\n",
       "      <td>[S1005rqVa]</td>\n",
       "    </tr>\n",
       "    <tr>\n",
       "      <th>1823</th>\n",
       "      <td>[S1005rqVa]</td>\n",
       "    </tr>\n",
       "    <tr>\n",
       "      <th>1824</th>\n",
       "      <td>[S101a0VCa]</td>\n",
       "    </tr>\n",
       "    <tr>\n",
       "      <th>1825</th>\n",
       "      <td>[S1002tJpa]</td>\n",
       "    </tr>\n",
       "    <tr>\n",
       "      <th>1826</th>\n",
       "      <td>[S1003HaMa, S100xBiYa]</td>\n",
       "    </tr>\n",
       "  </tbody>\n",
       "</table>\n",
       "<p>1827 rows × 1 columns</p>\n",
       "</div>"
      ],
      "text/plain": [
       "                       objId\n",
       "0                [S100azRha]\n",
       "1     [S100fxv5a, S1000X4Ea]\n",
       "2     [S1003c4ta, S100efYNa]\n",
       "3                [S1000PJia]\n",
       "4                [S10003uUa]\n",
       "...                      ...\n",
       "1822             [S1005rqVa]\n",
       "1823             [S1005rqVa]\n",
       "1824             [S101a0VCa]\n",
       "1825             [S1002tJpa]\n",
       "1826  [S1003HaMa, S100xBiYa]\n",
       "\n",
       "[1827 rows x 1 columns]"
      ]
     },
     "execution_count": 722,
     "metadata": {},
     "output_type": "execute_result"
    }
   ],
   "source": [
    "ofdf"
   ]
  },
  {
   "cell_type": "markdown",
   "metadata": {},
   "source": [
    "## Purity of clusters before IOD filtering [%]"
   ]
  },
  {
   "cell_type": "code",
   "execution_count": 859,
   "metadata": {},
   "outputs": [],
   "source": [
    "[n_heliolinc2_pure, purity, n_noise] = clusterPurity(ofdf)"
   ]
  },
  {
   "cell_type": "code",
   "execution_count": 860,
   "metadata": {},
   "outputs": [
    {
     "name": "stdout",
     "output_type": "stream",
     "text": [
      "40.45\n"
     ]
    }
   ],
   "source": [
    "print(purity)"
   ]
  },
  {
   "cell_type": "code",
   "execution_count": 861,
   "metadata": {},
   "outputs": [
    {
     "data": {
      "text/plain": [
       "0"
      ]
     },
     "execution_count": 861,
     "metadata": {},
     "output_type": "execute_result"
    }
   ],
   "source": [
    "n_noise"
   ]
  },
  {
   "cell_type": "markdown",
   "metadata": {},
   "source": [
    "## Completeness before filtering \n",
    "(Total number of objects vs objects in clusters including impure clusters)\n"
   ]
  },
  {
   "cell_type": "code",
   "execution_count": 554,
   "metadata": {},
   "outputs": [],
   "source": [
    "objects=np.unique(np.concatenate(ofdf['objId'].values)).tolist()"
   ]
  },
  {
   "cell_type": "code",
   "execution_count": 555,
   "metadata": {},
   "outputs": [
    {
     "name": "stdout",
     "output_type": "stream",
     "text": [
      "1208\n"
     ]
    }
   ],
   "source": [
    "n_heliolinc2=len(objects[2:])\n",
    "print(n_heliolinc2)"
   ]
  },
  {
   "cell_type": "code",
   "execution_count": 556,
   "metadata": {},
   "outputs": [
    {
     "data": {
      "text/plain": [
       "34.72"
      ]
     },
     "execution_count": 556,
     "metadata": {},
     "output_type": "execute_result"
    }
   ],
   "source": [
    "np.round(n_heliolinc2/len(dfobs['objId'].unique()-2)*100,2)"
   ]
  },
  {
   "cell_type": "markdown",
   "metadata": {},
   "source": [
    "## Completeness before filtering (pure clusters compared to MOPS 3 nights with 2 obs) "
   ]
  },
  {
   "cell_type": "code",
   "execution_count": 544,
   "metadata": {},
   "outputs": [],
   "source": [
    "[n_mops, objId_mops]=discoverableObjectsJPL(dfobs, 3, 2)"
   ]
  },
  {
   "cell_type": "code",
   "execution_count": 545,
   "metadata": {},
   "outputs": [
    {
     "name": "stdout",
     "output_type": "stream",
     "text": [
      "25\n"
     ]
    }
   ],
   "source": [
    "print(n_mops)"
   ]
  },
  {
   "cell_type": "code",
   "execution_count": 549,
   "metadata": {},
   "outputs": [
    {
     "data": {
      "text/plain": [
       "2956.0"
      ]
     },
     "execution_count": 549,
     "metadata": {},
     "output_type": "execute_result"
    }
   ],
   "source": [
    "np.round(n_heliolinc2_pure/n_mops,2)*100"
   ]
  },
  {
   "cell_type": "code",
   "execution_count": 550,
   "metadata": {},
   "outputs": [
    {
     "data": {
      "text/plain": [
       "Text(0, 0.5, 'number of clusters')"
      ]
     },
     "execution_count": 550,
     "metadata": {},
     "output_type": "execute_result"
    },
    {
     "data": {
      "image/png": "[encoded data removed]",
      "text/plain": [
       "<Figure size 900x600 with 1 Axes>"
      ]
     },
     "metadata": {
      "needs_background": "light"
     },
     "output_type": "display_data"
    }
   ],
   "source": [
    "lenof=[len(row) for row in of]\n",
    "\n",
    "plt.figure(dpi=150)\n",
    "plt.hist(lenof,bins=range(1,20))\n",
    "plt.yscale('log')\n",
    "plt.ylim(1,)\n",
    "plt.xlabel('unique objects in cluster')\n",
    "plt.ylabel('number of clusters')\n"
   ]
  },
  {
   "cell_type": "markdown",
   "metadata": {},
   "source": [
    "## IOD Filtering (THOR_Gauss)"
   ]
  },
  {
   "cell_type": "code",
   "execution_count": 735,
   "metadata": {},
   "outputs": [],
   "source": [
    "cof=clustered_observations_final"
   ]
  },
  {
   "cell_type": "code",
   "execution_count": 736,
   "metadata": {},
   "outputs": [
    {
     "data": {
      "text/plain": [
       "1827"
      ]
     },
     "execution_count": 736,
     "metadata": {},
     "output_type": "execute_result"
    }
   ],
   "source": [
    "len(cof.index)"
   ]
  },
  {
   "cell_type": "markdown",
   "metadata": {},
   "source": [
    "## Perform Filtering"
   ]
  },
  {
   "cell_type": "code",
   "execution_count": 911,
   "metadata": {},
   "outputs": [],
   "source": [
    "def Filter(dfobs, index, row, rms_max=27):\n",
    "    \"\"\"Filter clusters of observations via Initial Orbit Determination\n",
    "    \n",
    "    Parameters:\n",
    "    -----------\n",
    "    dfobs   ... Pandas DataFrame containing obsId, epoch an RA DEC values for all observations\n",
    "    index   ... Pandas index / clusterId\n",
    "    row     ... Pandas row containing obsIds in the respective cluster with index index\n",
    "    rms_max ... RMS O-C cutoff for filter\n",
    "    \n",
    "    Returns:\n",
    "    --------\n",
    "    index    ... Pandas index / clusterId\n",
    "    drop_idx ... True/False: does index comply with RMS limit?\n",
    "    rms      ... The actual RMS value for the cluster\n",
    "    \"\"\"\n",
    "    drop_idx=False\n",
    "    df=dfobs[dfobs['obsId'].isin(row['obsId'])]\n",
    "    rms = -999\n",
    "    try:\n",
    "        [rms,epoch,orbit] = ls.iodFilter(df)\n",
    "        print('r, rdot', row.r,row.drdt)\n",
    "        print('rms', rms)\n",
    "        if(rms>rms_max):\n",
    "            drop_idx=True\n",
    "    except:\n",
    "        #print('IOD failed')\n",
    "        drop_idx=True\n",
    "    return index, drop_idx, rms"
   ]
  },
  {
   "cell_type": "code",
   "execution_count": 912,
   "metadata": {},
   "outputs": [],
   "source": [
    "# Calculate RMS O-C using Gauss IOD orbit propagated to the epochs of observations.\n",
    "\n",
    "#batchsize=np.rint(len(cof.index)/nproc).astype(int)+1\n",
    "drop_idx=Parallel(n_jobs=10, batch_size='auto')(delayed(Filter)\n",
    "                                                (dfobs, index, row) for index, row in cof.iterrows())        "
   ]
  },
  {
   "cell_type": "code",
   "execution_count": 922,
   "metadata": {},
   "outputs": [],
   "source": [
    "# Filter all indices with RMS > RMS_limit\n",
    "drop_idx2=np.array(drop_idx)\n",
    "drop_idx3=drop_idx2[drop_idx2[:,1]==1][:,0]\n",
    "cof2=cof.drop(index=drop_idx3)"
   ]
  },
  {
   "cell_type": "code",
   "execution_count": 923,
   "metadata": {},
   "outputs": [
    {
     "data": {
      "text/html": [
       "<div>\n",
       "<style scoped>\n",
       "    .dataframe tbody tr th:only-of-type {\n",
       "        vertical-align: middle;\n",
       "    }\n",
       "\n",
       "    .dataframe tbody tr th {\n",
       "        vertical-align: top;\n",
       "    }\n",
       "\n",
       "    .dataframe thead th {\n",
       "        text-align: right;\n",
       "    }\n",
       "</style>\n",
       "<table border=\"1\" class=\"dataframe\">\n",
       "  <thead>\n",
       "    <tr style=\"text-align: right;\">\n",
       "      <th></th>\n",
       "      <th>clusterId</th>\n",
       "      <th>obsId</th>\n",
       "      <th>r</th>\n",
       "      <th>drdt</th>\n",
       "      <th>cluster_epoch</th>\n",
       "    </tr>\n",
       "  </thead>\n",
       "  <tbody>\n",
       "    <tr>\n",
       "      <th>449</th>\n",
       "      <td>12</td>\n",
       "      <td>[10366, 11258, 17209, 18025, 22667, 24160]</td>\n",
       "      <td>2.0</td>\n",
       "      <td>-0.06</td>\n",
       "      <td>52397.573056</td>\n",
       "    </tr>\n",
       "    <tr>\n",
       "      <th>479</th>\n",
       "      <td>6</td>\n",
       "      <td>[7885, 10402, 14939, 17247, 18095, 29926, 31336]</td>\n",
       "      <td>2.0</td>\n",
       "      <td>-0.05</td>\n",
       "      <td>52397.573056</td>\n",
       "    </tr>\n",
       "    <tr>\n",
       "      <th>480</th>\n",
       "      <td>9</td>\n",
       "      <td>[10382, 11286, 17224, 18052, 22719, 24190]</td>\n",
       "      <td>2.0</td>\n",
       "      <td>-0.05</td>\n",
       "      <td>52397.573056</td>\n",
       "    </tr>\n",
       "    <tr>\n",
       "      <th>495</th>\n",
       "      <td>181</td>\n",
       "      <td>[21327, 28383, 32556, 39442, 53979, 66220]</td>\n",
       "      <td>2.0</td>\n",
       "      <td>-0.05</td>\n",
       "      <td>52397.573056</td>\n",
       "    </tr>\n",
       "    <tr>\n",
       "      <th>510</th>\n",
       "      <td>43</td>\n",
       "      <td>[25117, 32290, 34985, 35857, 36757, 56615, 624...</td>\n",
       "      <td>2.0</td>\n",
       "      <td>-0.03</td>\n",
       "      <td>52397.573056</td>\n",
       "    </tr>\n",
       "    <tr>\n",
       "      <th>...</th>\n",
       "      <td>...</td>\n",
       "      <td>...</td>\n",
       "      <td>...</td>\n",
       "      <td>...</td>\n",
       "      <td>...</td>\n",
       "    </tr>\n",
       "    <tr>\n",
       "      <th>1789</th>\n",
       "      <td>12</td>\n",
       "      <td>[171, 2560, 3480, 25533, 32694, 35061, 37130]</td>\n",
       "      <td>3.2</td>\n",
       "      <td>-0.02</td>\n",
       "      <td>52397.573056</td>\n",
       "    </tr>\n",
       "    <tr>\n",
       "      <th>1809</th>\n",
       "      <td>2</td>\n",
       "      <td>[35, 3354, 7237, 7779, 14339, 14840, 25115, 32...</td>\n",
       "      <td>3.3</td>\n",
       "      <td>-0.02</td>\n",
       "      <td>52397.573056</td>\n",
       "    </tr>\n",
       "    <tr>\n",
       "      <th>1816</th>\n",
       "      <td>41</td>\n",
       "      <td>[21235, 25193, 28298, 32371, 36830, 39366, 465...</td>\n",
       "      <td>3.4</td>\n",
       "      <td>-0.03</td>\n",
       "      <td>52397.573056</td>\n",
       "    </tr>\n",
       "    <tr>\n",
       "      <th>1818</th>\n",
       "      <td>0</td>\n",
       "      <td>[132, 2550, 3441, 5906, 7937, 14989, 56797, 70...</td>\n",
       "      <td>3.4</td>\n",
       "      <td>-0.02</td>\n",
       "      <td>52397.573056</td>\n",
       "    </tr>\n",
       "    <tr>\n",
       "      <th>1819</th>\n",
       "      <td>9</td>\n",
       "      <td>[25328, 32497, 34950, 35824, 36943, 46746, 49820]</td>\n",
       "      <td>3.4</td>\n",
       "      <td>-0.02</td>\n",
       "      <td>52397.573056</td>\n",
       "    </tr>\n",
       "  </tbody>\n",
       "</table>\n",
       "<p>70 rows × 5 columns</p>\n",
       "</div>"
      ],
      "text/plain": [
       "      clusterId                                              obsId    r  drdt  \\\n",
       "449          12         [10366, 11258, 17209, 18025, 22667, 24160]  2.0 -0.06   \n",
       "479           6   [7885, 10402, 14939, 17247, 18095, 29926, 31336]  2.0 -0.05   \n",
       "480           9         [10382, 11286, 17224, 18052, 22719, 24190]  2.0 -0.05   \n",
       "495         181         [21327, 28383, 32556, 39442, 53979, 66220]  2.0 -0.05   \n",
       "510          43  [25117, 32290, 34985, 35857, 36757, 56615, 624...  2.0 -0.03   \n",
       "...         ...                                                ...  ...   ...   \n",
       "1789         12      [171, 2560, 3480, 25533, 32694, 35061, 37130]  3.2 -0.02   \n",
       "1809          2  [35, 3354, 7237, 7779, 14339, 14840, 25115, 32...  3.3 -0.02   \n",
       "1816         41  [21235, 25193, 28298, 32371, 36830, 39366, 465...  3.4 -0.03   \n",
       "1818          0  [132, 2550, 3441, 5906, 7937, 14989, 56797, 70...  3.4 -0.02   \n",
       "1819          9  [25328, 32497, 34950, 35824, 36943, 46746, 49820]  3.4 -0.02   \n",
       "\n",
       "      cluster_epoch  \n",
       "449    52397.573056  \n",
       "479    52397.573056  \n",
       "480    52397.573056  \n",
       "495    52397.573056  \n",
       "510    52397.573056  \n",
       "...             ...  \n",
       "1789   52397.573056  \n",
       "1809   52397.573056  \n",
       "1816   52397.573056  \n",
       "1818   52397.573056  \n",
       "1819   52397.573056  \n",
       "\n",
       "[70 rows x 5 columns]"
      ]
     },
     "execution_count": 923,
     "metadata": {},
     "output_type": "execute_result"
    }
   ],
   "source": [
    "cof2"
   ]
  },
  {
   "cell_type": "code",
   "execution_count": 924,
   "metadata": {},
   "outputs": [],
   "source": [
    "[cof3, subset_clusters, subset_cluster_ids]=collapseClusterSubsets(cof2)"
   ]
  },
  {
   "cell_type": "code",
   "execution_count": 925,
   "metadata": {},
   "outputs": [
    {
     "data": {
      "text/html": [
       "<div>\n",
       "<style scoped>\n",
       "    .dataframe tbody tr th:only-of-type {\n",
       "        vertical-align: middle;\n",
       "    }\n",
       "\n",
       "    .dataframe tbody tr th {\n",
       "        vertical-align: top;\n",
       "    }\n",
       "\n",
       "    .dataframe thead th {\n",
       "        text-align: right;\n",
       "    }\n",
       "</style>\n",
       "<table border=\"1\" class=\"dataframe\">\n",
       "  <thead>\n",
       "    <tr style=\"text-align: right;\">\n",
       "      <th></th>\n",
       "      <th>clusterId</th>\n",
       "      <th>obsId</th>\n",
       "      <th>r</th>\n",
       "      <th>drdt</th>\n",
       "      <th>cluster_epoch</th>\n",
       "    </tr>\n",
       "  </thead>\n",
       "  <tbody>\n",
       "    <tr>\n",
       "      <th>0</th>\n",
       "      <td>12</td>\n",
       "      <td>[10366, 11258, 17209, 18025, 22667, 24160]</td>\n",
       "      <td>2.0</td>\n",
       "      <td>-0.06</td>\n",
       "      <td>52397.573056</td>\n",
       "    </tr>\n",
       "    <tr>\n",
       "      <th>1</th>\n",
       "      <td>6</td>\n",
       "      <td>[7885, 10402, 14939, 17247, 18095, 29926, 31336]</td>\n",
       "      <td>2.0</td>\n",
       "      <td>-0.05</td>\n",
       "      <td>52397.573056</td>\n",
       "    </tr>\n",
       "    <tr>\n",
       "      <th>2</th>\n",
       "      <td>9</td>\n",
       "      <td>[10382, 11286, 17224, 18052, 22719, 24190]</td>\n",
       "      <td>2.0</td>\n",
       "      <td>-0.05</td>\n",
       "      <td>52397.573056</td>\n",
       "    </tr>\n",
       "    <tr>\n",
       "      <th>3</th>\n",
       "      <td>181</td>\n",
       "      <td>[21327, 28383, 32556, 39442, 53979, 66220]</td>\n",
       "      <td>2.0</td>\n",
       "      <td>-0.05</td>\n",
       "      <td>52397.573056</td>\n",
       "    </tr>\n",
       "    <tr>\n",
       "      <th>4</th>\n",
       "      <td>43</td>\n",
       "      <td>[25117, 32290, 34985, 35857, 36757, 56615, 624...</td>\n",
       "      <td>2.0</td>\n",
       "      <td>-0.03</td>\n",
       "      <td>52397.573056</td>\n",
       "    </tr>\n",
       "    <tr>\n",
       "      <th>...</th>\n",
       "      <td>...</td>\n",
       "      <td>...</td>\n",
       "      <td>...</td>\n",
       "      <td>...</td>\n",
       "      <td>...</td>\n",
       "    </tr>\n",
       "    <tr>\n",
       "      <th>65</th>\n",
       "      <td>12</td>\n",
       "      <td>[171, 2560, 3480, 25533, 32694, 35061, 37130]</td>\n",
       "      <td>3.2</td>\n",
       "      <td>-0.02</td>\n",
       "      <td>52397.573056</td>\n",
       "    </tr>\n",
       "    <tr>\n",
       "      <th>66</th>\n",
       "      <td>2</td>\n",
       "      <td>[35, 3354, 7237, 7779, 14339, 14840, 25115, 32...</td>\n",
       "      <td>3.3</td>\n",
       "      <td>-0.02</td>\n",
       "      <td>52397.573056</td>\n",
       "    </tr>\n",
       "    <tr>\n",
       "      <th>67</th>\n",
       "      <td>41</td>\n",
       "      <td>[21235, 25193, 28298, 32371, 36830, 39366, 465...</td>\n",
       "      <td>3.4</td>\n",
       "      <td>-0.03</td>\n",
       "      <td>52397.573056</td>\n",
       "    </tr>\n",
       "    <tr>\n",
       "      <th>68</th>\n",
       "      <td>0</td>\n",
       "      <td>[132, 2550, 3441, 5906, 7937, 14989, 56797, 70...</td>\n",
       "      <td>3.4</td>\n",
       "      <td>-0.02</td>\n",
       "      <td>52397.573056</td>\n",
       "    </tr>\n",
       "    <tr>\n",
       "      <th>69</th>\n",
       "      <td>9</td>\n",
       "      <td>[25328, 32497, 34950, 35824, 36943, 46746, 49820]</td>\n",
       "      <td>3.4</td>\n",
       "      <td>-0.02</td>\n",
       "      <td>52397.573056</td>\n",
       "    </tr>\n",
       "  </tbody>\n",
       "</table>\n",
       "<p>70 rows × 5 columns</p>\n",
       "</div>"
      ],
      "text/plain": [
       "    clusterId                                              obsId    r  drdt  \\\n",
       "0          12         [10366, 11258, 17209, 18025, 22667, 24160]  2.0 -0.06   \n",
       "1           6   [7885, 10402, 14939, 17247, 18095, 29926, 31336]  2.0 -0.05   \n",
       "2           9         [10382, 11286, 17224, 18052, 22719, 24190]  2.0 -0.05   \n",
       "3         181         [21327, 28383, 32556, 39442, 53979, 66220]  2.0 -0.05   \n",
       "4          43  [25117, 32290, 34985, 35857, 36757, 56615, 624...  2.0 -0.03   \n",
       "..        ...                                                ...  ...   ...   \n",
       "65         12      [171, 2560, 3480, 25533, 32694, 35061, 37130]  3.2 -0.02   \n",
       "66          2  [35, 3354, 7237, 7779, 14339, 14840, 25115, 32...  3.3 -0.02   \n",
       "67         41  [21235, 25193, 28298, 32371, 36830, 39366, 465...  3.4 -0.03   \n",
       "68          0  [132, 2550, 3441, 5906, 7937, 14989, 56797, 70...  3.4 -0.02   \n",
       "69          9  [25328, 32497, 34950, 35824, 36943, 46746, 49820]  3.4 -0.02   \n",
       "\n",
       "    cluster_epoch  \n",
       "0    52397.573056  \n",
       "1    52397.573056  \n",
       "2    52397.573056  \n",
       "3    52397.573056  \n",
       "4    52397.573056  \n",
       "..            ...  \n",
       "65   52397.573056  \n",
       "66   52397.573056  \n",
       "67   52397.573056  \n",
       "68   52397.573056  \n",
       "69   52397.573056  \n",
       "\n",
       "[70 rows x 5 columns]"
      ]
     },
     "execution_count": 925,
     "metadata": {},
     "output_type": "execute_result"
    }
   ],
   "source": [
    "cof3"
   ]
  },
  {
   "cell_type": "code",
   "execution_count": 926,
   "metadata": {},
   "outputs": [],
   "source": [
    "[idx, objects_in_cluster]=objectsInClusters(dfobs, cof3)"
   ]
  },
  {
   "cell_type": "code",
   "execution_count": 927,
   "metadata": {},
   "outputs": [
    {
     "name": "stdout",
     "output_type": "stream",
     "text": [
      "70\n"
     ]
    }
   ],
   "source": [
    "number_of_clusters_post_iod=len(objects_in_cluster)\n",
    "print(number_of_clusters_post_iod)"
   ]
  },
  {
   "cell_type": "markdown",
   "metadata": {},
   "source": [
    "## Purity after IOD [%]"
   ]
  },
  {
   "cell_type": "code",
   "execution_count": 928,
   "metadata": {},
   "outputs": [],
   "source": [
    "[n_iod_pure, iod_purity, iod_n_noise] = clusterPurity(objects_in_cluster)"
   ]
  },
  {
   "cell_type": "code",
   "execution_count": 929,
   "metadata": {},
   "outputs": [
    {
     "data": {
      "text/plain": [
       "70"
      ]
     },
     "execution_count": 929,
     "metadata": {},
     "output_type": "execute_result"
    }
   ],
   "source": [
    "len(objects_in_cluster.index)"
   ]
  },
  {
   "cell_type": "code",
   "execution_count": 934,
   "metadata": {},
   "outputs": [
    {
     "data": {
      "text/plain": [
       "51"
      ]
     },
     "execution_count": 934,
     "metadata": {},
     "output_type": "execute_result"
    }
   ],
   "source": [
    "n_iod_pure"
   ]
  },
  {
   "cell_type": "code",
   "execution_count": 935,
   "metadata": {},
   "outputs": [
    {
     "data": {
      "text/plain": [
       "72.86"
      ]
     },
     "execution_count": 935,
     "metadata": {},
     "output_type": "execute_result"
    }
   ],
   "source": [
    "iod_purity"
   ]
  },
  {
   "cell_type": "code",
   "execution_count": 936,
   "metadata": {},
   "outputs": [
    {
     "data": {
      "text/plain": [
       "0"
      ]
     },
     "execution_count": 936,
     "metadata": {},
     "output_type": "execute_result"
    }
   ],
   "source": [
    "iod_n_noise"
   ]
  },
  {
   "cell_type": "markdown",
   "metadata": {},
   "source": [
    "## Completness wrt MOPS [%]"
   ]
  },
  {
   "cell_type": "code",
   "execution_count": 939,
   "metadata": {},
   "outputs": [
    {
     "data": {
      "text/plain": [
       "280.0"
      ]
     },
     "execution_count": 939,
     "metadata": {},
     "output_type": "execute_result"
    }
   ],
   "source": [
    "number_of_clusters_post_iod/n_mops*100"
   ]
  },
  {
   "cell_type": "markdown",
   "metadata": {},
   "source": [
    "## Objects findable by MOPS"
   ]
  },
  {
   "cell_type": "code",
   "execution_count": 940,
   "metadata": {},
   "outputs": [
    {
     "data": {
      "text/plain": [
       "array(['S100aS6Pa', 'S1000mS6a', 'S100axLHa', 'S1001wbta', 'S100azRha',\n",
       "       'S100EmvQa', 'S1000sTba', 'S100ev1Ga', 'S100bfeLa', 'S100oZzSa',\n",
       "       'S10067eIa', 'S1004iyka', 'S100n4Cja', 'S1002KYPa', 'S100fzEfa',\n",
       "       'S100rYpKa', 'S100dJWva', 'S1005DaLa', 'S100ciULa', 'S100fxv5a',\n",
       "       'S1002eHEa', 'S1003kfZa', 'S100c9GBa', 'S100dIGPa', 'S1008DVTa'],\n",
       "      dtype=object)"
      ]
     },
     "execution_count": 940,
     "metadata": {},
     "output_type": "execute_result"
    }
   ],
   "source": [
    "objId_mops"
   ]
  },
  {
   "cell_type": "markdown",
   "metadata": {},
   "source": [
    "# Objects found by HelioLinC2\n"
   ]
  },
  {
   "cell_type": "code",
   "execution_count": 941,
   "metadata": {},
   "outputs": [
    {
     "data": {
      "text/plain": [
       "0                [S100gYava]\n",
       "1                [S1002fLca]\n",
       "2                [S100iRMYa]\n",
       "3     [S100nIOOa, S100xaQea]\n",
       "4     [S100hXcga, S100JFrda]\n",
       "               ...          \n",
       "65               [S100nsOYa]\n",
       "66               [S1000mS6a]\n",
       "67               [S100eMsia]\n",
       "68               [S1000h0Na]\n",
       "69               [S10066ywa]\n",
       "Name: objId, Length: 70, dtype: object"
      ]
     },
     "execution_count": 941,
     "metadata": {},
     "output_type": "execute_result"
    }
   ],
   "source": [
    "objects_in_cluster['objId']"
   ]
  },
  {
   "cell_type": "markdown",
   "metadata": {},
   "source": [
    "## Objects findable by both HelioLinC2 and MOPS"
   ]
  },
  {
   "cell_type": "code",
   "execution_count": 942,
   "metadata": {},
   "outputs": [
    {
     "data": {
      "text/plain": [
       "['S1000mS6a', 'S100ev1Ga', 'S100dIGPa', 'S100rYpKa', 'S1001wbta', 'S1000sTba']"
      ]
     },
     "execution_count": 942,
     "metadata": {},
     "output_type": "execute_result"
    }
   ],
   "source": [
    "list(set(objects_found) & set(objId_mops))"
   ]
  }
 ],
 "metadata": {
  "kernelspec": {
   "display_name": "pytrax_s",
   "language": "python",
   "name": "pytrax_s"
  },
  "language_info": {
   "codemirror_mode": {
    "name": "ipython",
    "version": 3
   },
   "file_extension": ".py",
   "mimetype": "text/x-python",
   "name": "python",
   "nbconvert_exporter": "python",
   "pygments_lexer": "ipython3",
   "version": "3.7.4"
  }
 },
 "nbformat": 4,
 "nbformat_minor": 2
}
